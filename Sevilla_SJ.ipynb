{
  "nbformat": 4,
  "nbformat_minor": 0,
  "metadata": {
    "colab": {
      "name": "sevilla_sj.ipynb",
      "provenance": [],
      "collapsed_sections": []
    },
    "kernelspec": {
      "name": "python3",
      "display_name": "Python 3"
    },
    "language_info": {
      "name": "python"
    }
  },
  "cells": [
    {
      "cell_type": "code",
      "execution_count": null,
      "metadata": {
        "colab": {
          "base_uri": "https://localhost:8080/"
        },
        "id": "U4HiMQJRtyja",
        "outputId": "d5cc7d3a-41a4-45e0-c94e-9d4f63a2e17d"
      },
      "outputs": [
        {
          "output_type": "stream",
          "name": "stdout",
          "text": [
            "Mounted at /content/drive\n"
          ]
        }
      ],
      "source": [
        "from google.colab import drive\n",
        "drive.mount('/content/drive',force_remount=True) "
      ]
    },
    {
      "cell_type": "code",
      "source": [
        "import pandas as pd\n",
        "import numpy as np\n",
        "import torch\n",
        "import seaborn as sns\n",
        "import matplotlib.pyplot as plt\n",
        "%matplotlib inline \n",
        "from sklearn.preprocessing import LabelEncoder \n",
        "from sklearn.metrics import accuracy_score, log_loss,roc_auc_score"
      ],
      "metadata": {
        "id": "WnQmSiOXuHR4"
      },
      "execution_count": null,
      "outputs": []
    },
    {
      "cell_type": "code",
      "source": [
        "train = pd.read_csv('/content/drive/MyDrive/sevilla hackathon/Data/train.csv')\n",
        "test = pd.read_csv('/content/drive/MyDrive/sevilla hackathon/Data/test.csv')\n",
        "features=train.drop(['rating_num'], axis=1)\n",
        "label=train['rating_num']\n",
        "features.head(5)"
      ],
      "metadata": {
        "id": "SAy8HR-WuPPh",
        "colab": {
          "base_uri": "https://localhost:8080/",
          "height": 300
        },
        "outputId": "cb2600da-7ceb-4152-e1de-44c7bbe73b32"
      },
      "execution_count": null,
      "outputs": [
        {
          "output_type": "execute_result",
          "data": {
            "text/plain": [
              "   row_id  scout_id  winner   team  competitionId  player_position_1  \\\n",
              "0       1        13  winner  team1              8                7.0   \n",
              "1       3        16   loser  team2              8                3.0   \n",
              "2       4         4   loser  team1              5               11.0   \n",
              "3       5        13   loser  team2              4               17.0   \n",
              "4       7        11    draw  team1              5               10.0   \n",
              "\n",
              "   player_position_2  player_height  player_weight  player_general_var_0  ...  \\\n",
              "0                7.0       0.317073           0.48                   0.0  ...   \n",
              "1                9.0       0.463415           0.42                   0.0  ...   \n",
              "2               11.0       0.682927           0.44                   0.0  ...   \n",
              "3               17.0       0.682927           0.58                   0.0  ...   \n",
              "4               10.0       0.731707           0.70                   0.0  ...   \n",
              "\n",
              "   team2_defensive_derived_var_10  team2_offensive_derived_var_11  \\\n",
              "0                        0.193658                        0.131548   \n",
              "1                        0.190500                        0.173697   \n",
              "2                        0.312314                        0.250756   \n",
              "3                        0.282556                        0.155969   \n",
              "4                        0.450453                        0.199050   \n",
              "\n",
              "   team2_offensive_derived_var_12  team2_offensive_derived_var_13  \\\n",
              "0                        0.097131                        0.600944   \n",
              "1                        0.272801                        0.605659   \n",
              "2                        0.212631                        0.558833   \n",
              "3                        0.206503                        0.533002   \n",
              "4                        0.134002                        0.688773   \n",
              "\n",
              "   team2_offensive_derived_var_14  team2_defensive_derived_var_15  \\\n",
              "0                        0.338892                        0.347980   \n",
              "1                        0.526761                        0.468976   \n",
              "2                        0.686523                        0.441749   \n",
              "3                        0.373959                        0.527733   \n",
              "4                        0.681724                        0.733625   \n",
              "\n",
              "   team2_offensive_derived_var_16  team2_defensive_derived_var_17  \\\n",
              "0                        0.034157                        0.288962   \n",
              "1                        0.054034                        0.334962   \n",
              "2                        0.219441                        0.414288   \n",
              "3                        0.095201                        0.423040   \n",
              "4                        0.128719                        0.448360   \n",
              "\n",
              "   team2_offensive_derived_var_18  team2_offensive_derived_var_19  \n",
              "0                        0.310727                        0.204925  \n",
              "1                        0.380073                        0.295392  \n",
              "2                        0.570757                        0.437500  \n",
              "3                        0.330754                        0.235558  \n",
              "4                        0.444946                        0.312500  \n",
              "\n",
              "[5 rows x 799 columns]"
            ],
            "text/html": [
              "\n",
              "  <div id=\"df-0a3fa629-1d76-4c61-8e0c-ed701cf114a1\">\n",
              "    <div class=\"colab-df-container\">\n",
              "      <div>\n",
              "<style scoped>\n",
              "    .dataframe tbody tr th:only-of-type {\n",
              "        vertical-align: middle;\n",
              "    }\n",
              "\n",
              "    .dataframe tbody tr th {\n",
              "        vertical-align: top;\n",
              "    }\n",
              "\n",
              "    .dataframe thead th {\n",
              "        text-align: right;\n",
              "    }\n",
              "</style>\n",
              "<table border=\"1\" class=\"dataframe\">\n",
              "  <thead>\n",
              "    <tr style=\"text-align: right;\">\n",
              "      <th></th>\n",
              "      <th>row_id</th>\n",
              "      <th>scout_id</th>\n",
              "      <th>winner</th>\n",
              "      <th>team</th>\n",
              "      <th>competitionId</th>\n",
              "      <th>player_position_1</th>\n",
              "      <th>player_position_2</th>\n",
              "      <th>player_height</th>\n",
              "      <th>player_weight</th>\n",
              "      <th>player_general_var_0</th>\n",
              "      <th>...</th>\n",
              "      <th>team2_defensive_derived_var_10</th>\n",
              "      <th>team2_offensive_derived_var_11</th>\n",
              "      <th>team2_offensive_derived_var_12</th>\n",
              "      <th>team2_offensive_derived_var_13</th>\n",
              "      <th>team2_offensive_derived_var_14</th>\n",
              "      <th>team2_defensive_derived_var_15</th>\n",
              "      <th>team2_offensive_derived_var_16</th>\n",
              "      <th>team2_defensive_derived_var_17</th>\n",
              "      <th>team2_offensive_derived_var_18</th>\n",
              "      <th>team2_offensive_derived_var_19</th>\n",
              "    </tr>\n",
              "  </thead>\n",
              "  <tbody>\n",
              "    <tr>\n",
              "      <th>0</th>\n",
              "      <td>1</td>\n",
              "      <td>13</td>\n",
              "      <td>winner</td>\n",
              "      <td>team1</td>\n",
              "      <td>8</td>\n",
              "      <td>7.0</td>\n",
              "      <td>7.0</td>\n",
              "      <td>0.317073</td>\n",
              "      <td>0.48</td>\n",
              "      <td>0.0</td>\n",
              "      <td>...</td>\n",
              "      <td>0.193658</td>\n",
              "      <td>0.131548</td>\n",
              "      <td>0.097131</td>\n",
              "      <td>0.600944</td>\n",
              "      <td>0.338892</td>\n",
              "      <td>0.347980</td>\n",
              "      <td>0.034157</td>\n",
              "      <td>0.288962</td>\n",
              "      <td>0.310727</td>\n",
              "      <td>0.204925</td>\n",
              "    </tr>\n",
              "    <tr>\n",
              "      <th>1</th>\n",
              "      <td>3</td>\n",
              "      <td>16</td>\n",
              "      <td>loser</td>\n",
              "      <td>team2</td>\n",
              "      <td>8</td>\n",
              "      <td>3.0</td>\n",
              "      <td>9.0</td>\n",
              "      <td>0.463415</td>\n",
              "      <td>0.42</td>\n",
              "      <td>0.0</td>\n",
              "      <td>...</td>\n",
              "      <td>0.190500</td>\n",
              "      <td>0.173697</td>\n",
              "      <td>0.272801</td>\n",
              "      <td>0.605659</td>\n",
              "      <td>0.526761</td>\n",
              "      <td>0.468976</td>\n",
              "      <td>0.054034</td>\n",
              "      <td>0.334962</td>\n",
              "      <td>0.380073</td>\n",
              "      <td>0.295392</td>\n",
              "    </tr>\n",
              "    <tr>\n",
              "      <th>2</th>\n",
              "      <td>4</td>\n",
              "      <td>4</td>\n",
              "      <td>loser</td>\n",
              "      <td>team1</td>\n",
              "      <td>5</td>\n",
              "      <td>11.0</td>\n",
              "      <td>11.0</td>\n",
              "      <td>0.682927</td>\n",
              "      <td>0.44</td>\n",
              "      <td>0.0</td>\n",
              "      <td>...</td>\n",
              "      <td>0.312314</td>\n",
              "      <td>0.250756</td>\n",
              "      <td>0.212631</td>\n",
              "      <td>0.558833</td>\n",
              "      <td>0.686523</td>\n",
              "      <td>0.441749</td>\n",
              "      <td>0.219441</td>\n",
              "      <td>0.414288</td>\n",
              "      <td>0.570757</td>\n",
              "      <td>0.437500</td>\n",
              "    </tr>\n",
              "    <tr>\n",
              "      <th>3</th>\n",
              "      <td>5</td>\n",
              "      <td>13</td>\n",
              "      <td>loser</td>\n",
              "      <td>team2</td>\n",
              "      <td>4</td>\n",
              "      <td>17.0</td>\n",
              "      <td>17.0</td>\n",
              "      <td>0.682927</td>\n",
              "      <td>0.58</td>\n",
              "      <td>0.0</td>\n",
              "      <td>...</td>\n",
              "      <td>0.282556</td>\n",
              "      <td>0.155969</td>\n",
              "      <td>0.206503</td>\n",
              "      <td>0.533002</td>\n",
              "      <td>0.373959</td>\n",
              "      <td>0.527733</td>\n",
              "      <td>0.095201</td>\n",
              "      <td>0.423040</td>\n",
              "      <td>0.330754</td>\n",
              "      <td>0.235558</td>\n",
              "    </tr>\n",
              "    <tr>\n",
              "      <th>4</th>\n",
              "      <td>7</td>\n",
              "      <td>11</td>\n",
              "      <td>draw</td>\n",
              "      <td>team1</td>\n",
              "      <td>5</td>\n",
              "      <td>10.0</td>\n",
              "      <td>10.0</td>\n",
              "      <td>0.731707</td>\n",
              "      <td>0.70</td>\n",
              "      <td>0.0</td>\n",
              "      <td>...</td>\n",
              "      <td>0.450453</td>\n",
              "      <td>0.199050</td>\n",
              "      <td>0.134002</td>\n",
              "      <td>0.688773</td>\n",
              "      <td>0.681724</td>\n",
              "      <td>0.733625</td>\n",
              "      <td>0.128719</td>\n",
              "      <td>0.448360</td>\n",
              "      <td>0.444946</td>\n",
              "      <td>0.312500</td>\n",
              "    </tr>\n",
              "  </tbody>\n",
              "</table>\n",
              "<p>5 rows × 799 columns</p>\n",
              "</div>\n",
              "      <button class=\"colab-df-convert\" onclick=\"convertToInteractive('df-0a3fa629-1d76-4c61-8e0c-ed701cf114a1')\"\n",
              "              title=\"Convert this dataframe to an interactive table.\"\n",
              "              style=\"display:none;\">\n",
              "        \n",
              "  <svg xmlns=\"http://www.w3.org/2000/svg\" height=\"24px\"viewBox=\"0 0 24 24\"\n",
              "       width=\"24px\">\n",
              "    <path d=\"M0 0h24v24H0V0z\" fill=\"none\"/>\n",
              "    <path d=\"M18.56 5.44l.94 2.06.94-2.06 2.06-.94-2.06-.94-.94-2.06-.94 2.06-2.06.94zm-11 1L8.5 8.5l.94-2.06 2.06-.94-2.06-.94L8.5 2.5l-.94 2.06-2.06.94zm10 10l.94 2.06.94-2.06 2.06-.94-2.06-.94-.94-2.06-.94 2.06-2.06.94z\"/><path d=\"M17.41 7.96l-1.37-1.37c-.4-.4-.92-.59-1.43-.59-.52 0-1.04.2-1.43.59L10.3 9.45l-7.72 7.72c-.78.78-.78 2.05 0 2.83L4 21.41c.39.39.9.59 1.41.59.51 0 1.02-.2 1.41-.59l7.78-7.78 2.81-2.81c.8-.78.8-2.07 0-2.86zM5.41 20L4 18.59l7.72-7.72 1.47 1.35L5.41 20z\"/>\n",
              "  </svg>\n",
              "      </button>\n",
              "      \n",
              "  <style>\n",
              "    .colab-df-container {\n",
              "      display:flex;\n",
              "      flex-wrap:wrap;\n",
              "      gap: 12px;\n",
              "    }\n",
              "\n",
              "    .colab-df-convert {\n",
              "      background-color: #E8F0FE;\n",
              "      border: none;\n",
              "      border-radius: 50%;\n",
              "      cursor: pointer;\n",
              "      display: none;\n",
              "      fill: #1967D2;\n",
              "      height: 32px;\n",
              "      padding: 0 0 0 0;\n",
              "      width: 32px;\n",
              "    }\n",
              "\n",
              "    .colab-df-convert:hover {\n",
              "      background-color: #E2EBFA;\n",
              "      box-shadow: 0px 1px 2px rgba(60, 64, 67, 0.3), 0px 1px 3px 1px rgba(60, 64, 67, 0.15);\n",
              "      fill: #174EA6;\n",
              "    }\n",
              "\n",
              "    [theme=dark] .colab-df-convert {\n",
              "      background-color: #3B4455;\n",
              "      fill: #D2E3FC;\n",
              "    }\n",
              "\n",
              "    [theme=dark] .colab-df-convert:hover {\n",
              "      background-color: #434B5C;\n",
              "      box-shadow: 0px 1px 3px 1px rgba(0, 0, 0, 0.15);\n",
              "      filter: drop-shadow(0px 1px 2px rgba(0, 0, 0, 0.3));\n",
              "      fill: #FFFFFF;\n",
              "    }\n",
              "  </style>\n",
              "\n",
              "      <script>\n",
              "        const buttonEl =\n",
              "          document.querySelector('#df-0a3fa629-1d76-4c61-8e0c-ed701cf114a1 button.colab-df-convert');\n",
              "        buttonEl.style.display =\n",
              "          google.colab.kernel.accessAllowed ? 'block' : 'none';\n",
              "\n",
              "        async function convertToInteractive(key) {\n",
              "          const element = document.querySelector('#df-0a3fa629-1d76-4c61-8e0c-ed701cf114a1');\n",
              "          const dataTable =\n",
              "            await google.colab.kernel.invokeFunction('convertToInteractive',\n",
              "                                                     [key], {});\n",
              "          if (!dataTable) return;\n",
              "\n",
              "          const docLinkHtml = 'Like what you see? Visit the ' +\n",
              "            '<a target=\"_blank\" href=https://colab.research.google.com/notebooks/data_table.ipynb>data table notebook</a>'\n",
              "            + ' to learn more about interactive tables.';\n",
              "          element.innerHTML = '';\n",
              "          dataTable['output_type'] = 'display_data';\n",
              "          await google.colab.output.renderOutput(dataTable, element);\n",
              "          const docLink = document.createElement('div');\n",
              "          docLink.innerHTML = docLinkHtml;\n",
              "          element.appendChild(docLink);\n",
              "        }\n",
              "      </script>\n",
              "    </div>\n",
              "  </div>\n",
              "  "
            ]
          },
          "metadata": {},
          "execution_count": 50
        }
      ]
    },
    {
      "cell_type": "markdown",
      "source": [
        "#Encoding"
      ],
      "metadata": {
        "id": "RCDwMUyWxF7J"
      }
    },
    {
      "cell_type": "code",
      "source": [
        "def binary_encode(df, column, positive_value):\n",
        "    df = df.copy()\n",
        "    df[column] = df[column].apply(lambda x: 1 if x == positive_value else 0)\n",
        "    return df"
      ],
      "metadata": {
        "id": "V2KX-uiLxFlD"
      },
      "execution_count": null,
      "outputs": []
    },
    {
      "cell_type": "code",
      "source": [
        "def three_encode(df, column, a_value,b_value):\n",
        "    df = df.copy()\n",
        "    df[column] = df[column].apply(lambda x: 2 if x == a_value else (1 if x == b_value\n",
        "                                  else 0))\n",
        "    return df"
      ],
      "metadata": {
        "id": "b_5rgN3GxgLb"
      },
      "execution_count": null,
      "outputs": []
    },
    {
      "cell_type": "code",
      "source": [
        "features= three_encode(features, 'winner', 'winner','draw')\n",
        "features=binary_encode(features, \"team\",\"team1\")\n",
        "features.head(5)"
      ],
      "metadata": {
        "id": "w0AZRKOXxMqr",
        "colab": {
          "base_uri": "https://localhost:8080/",
          "height": 300
        },
        "outputId": "27a6c81d-44c1-4854-d939-759529c57422"
      },
      "execution_count": null,
      "outputs": [
        {
          "output_type": "execute_result",
          "data": {
            "text/plain": [
              "   row_id  scout_id  winner  team  competitionId  player_position_1  \\\n",
              "0       1        13       2     1              8                7.0   \n",
              "1       3        16       0     0              8                3.0   \n",
              "2       4         4       0     1              5               11.0   \n",
              "3       5        13       0     0              4               17.0   \n",
              "4       7        11       1     1              5               10.0   \n",
              "\n",
              "   player_position_2  player_height  player_weight  player_general_var_0  ...  \\\n",
              "0                7.0       0.317073           0.48                   0.0  ...   \n",
              "1                9.0       0.463415           0.42                   0.0  ...   \n",
              "2               11.0       0.682927           0.44                   0.0  ...   \n",
              "3               17.0       0.682927           0.58                   0.0  ...   \n",
              "4               10.0       0.731707           0.70                   0.0  ...   \n",
              "\n",
              "   team2_defensive_derived_var_10  team2_offensive_derived_var_11  \\\n",
              "0                        0.193658                        0.131548   \n",
              "1                        0.190500                        0.173697   \n",
              "2                        0.312314                        0.250756   \n",
              "3                        0.282556                        0.155969   \n",
              "4                        0.450453                        0.199050   \n",
              "\n",
              "   team2_offensive_derived_var_12  team2_offensive_derived_var_13  \\\n",
              "0                        0.097131                        0.600944   \n",
              "1                        0.272801                        0.605659   \n",
              "2                        0.212631                        0.558833   \n",
              "3                        0.206503                        0.533002   \n",
              "4                        0.134002                        0.688773   \n",
              "\n",
              "   team2_offensive_derived_var_14  team2_defensive_derived_var_15  \\\n",
              "0                        0.338892                        0.347980   \n",
              "1                        0.526761                        0.468976   \n",
              "2                        0.686523                        0.441749   \n",
              "3                        0.373959                        0.527733   \n",
              "4                        0.681724                        0.733625   \n",
              "\n",
              "   team2_offensive_derived_var_16  team2_defensive_derived_var_17  \\\n",
              "0                        0.034157                        0.288962   \n",
              "1                        0.054034                        0.334962   \n",
              "2                        0.219441                        0.414288   \n",
              "3                        0.095201                        0.423040   \n",
              "4                        0.128719                        0.448360   \n",
              "\n",
              "   team2_offensive_derived_var_18  team2_offensive_derived_var_19  \n",
              "0                        0.310727                        0.204925  \n",
              "1                        0.380073                        0.295392  \n",
              "2                        0.570757                        0.437500  \n",
              "3                        0.330754                        0.235558  \n",
              "4                        0.444946                        0.312500  \n",
              "\n",
              "[5 rows x 799 columns]"
            ],
            "text/html": [
              "\n",
              "  <div id=\"df-c2b5b8b2-0125-4577-ab9a-21dc0b1b241f\">\n",
              "    <div class=\"colab-df-container\">\n",
              "      <div>\n",
              "<style scoped>\n",
              "    .dataframe tbody tr th:only-of-type {\n",
              "        vertical-align: middle;\n",
              "    }\n",
              "\n",
              "    .dataframe tbody tr th {\n",
              "        vertical-align: top;\n",
              "    }\n",
              "\n",
              "    .dataframe thead th {\n",
              "        text-align: right;\n",
              "    }\n",
              "</style>\n",
              "<table border=\"1\" class=\"dataframe\">\n",
              "  <thead>\n",
              "    <tr style=\"text-align: right;\">\n",
              "      <th></th>\n",
              "      <th>row_id</th>\n",
              "      <th>scout_id</th>\n",
              "      <th>winner</th>\n",
              "      <th>team</th>\n",
              "      <th>competitionId</th>\n",
              "      <th>player_position_1</th>\n",
              "      <th>player_position_2</th>\n",
              "      <th>player_height</th>\n",
              "      <th>player_weight</th>\n",
              "      <th>player_general_var_0</th>\n",
              "      <th>...</th>\n",
              "      <th>team2_defensive_derived_var_10</th>\n",
              "      <th>team2_offensive_derived_var_11</th>\n",
              "      <th>team2_offensive_derived_var_12</th>\n",
              "      <th>team2_offensive_derived_var_13</th>\n",
              "      <th>team2_offensive_derived_var_14</th>\n",
              "      <th>team2_defensive_derived_var_15</th>\n",
              "      <th>team2_offensive_derived_var_16</th>\n",
              "      <th>team2_defensive_derived_var_17</th>\n",
              "      <th>team2_offensive_derived_var_18</th>\n",
              "      <th>team2_offensive_derived_var_19</th>\n",
              "    </tr>\n",
              "  </thead>\n",
              "  <tbody>\n",
              "    <tr>\n",
              "      <th>0</th>\n",
              "      <td>1</td>\n",
              "      <td>13</td>\n",
              "      <td>2</td>\n",
              "      <td>1</td>\n",
              "      <td>8</td>\n",
              "      <td>7.0</td>\n",
              "      <td>7.0</td>\n",
              "      <td>0.317073</td>\n",
              "      <td>0.48</td>\n",
              "      <td>0.0</td>\n",
              "      <td>...</td>\n",
              "      <td>0.193658</td>\n",
              "      <td>0.131548</td>\n",
              "      <td>0.097131</td>\n",
              "      <td>0.600944</td>\n",
              "      <td>0.338892</td>\n",
              "      <td>0.347980</td>\n",
              "      <td>0.034157</td>\n",
              "      <td>0.288962</td>\n",
              "      <td>0.310727</td>\n",
              "      <td>0.204925</td>\n",
              "    </tr>\n",
              "    <tr>\n",
              "      <th>1</th>\n",
              "      <td>3</td>\n",
              "      <td>16</td>\n",
              "      <td>0</td>\n",
              "      <td>0</td>\n",
              "      <td>8</td>\n",
              "      <td>3.0</td>\n",
              "      <td>9.0</td>\n",
              "      <td>0.463415</td>\n",
              "      <td>0.42</td>\n",
              "      <td>0.0</td>\n",
              "      <td>...</td>\n",
              "      <td>0.190500</td>\n",
              "      <td>0.173697</td>\n",
              "      <td>0.272801</td>\n",
              "      <td>0.605659</td>\n",
              "      <td>0.526761</td>\n",
              "      <td>0.468976</td>\n",
              "      <td>0.054034</td>\n",
              "      <td>0.334962</td>\n",
              "      <td>0.380073</td>\n",
              "      <td>0.295392</td>\n",
              "    </tr>\n",
              "    <tr>\n",
              "      <th>2</th>\n",
              "      <td>4</td>\n",
              "      <td>4</td>\n",
              "      <td>0</td>\n",
              "      <td>1</td>\n",
              "      <td>5</td>\n",
              "      <td>11.0</td>\n",
              "      <td>11.0</td>\n",
              "      <td>0.682927</td>\n",
              "      <td>0.44</td>\n",
              "      <td>0.0</td>\n",
              "      <td>...</td>\n",
              "      <td>0.312314</td>\n",
              "      <td>0.250756</td>\n",
              "      <td>0.212631</td>\n",
              "      <td>0.558833</td>\n",
              "      <td>0.686523</td>\n",
              "      <td>0.441749</td>\n",
              "      <td>0.219441</td>\n",
              "      <td>0.414288</td>\n",
              "      <td>0.570757</td>\n",
              "      <td>0.437500</td>\n",
              "    </tr>\n",
              "    <tr>\n",
              "      <th>3</th>\n",
              "      <td>5</td>\n",
              "      <td>13</td>\n",
              "      <td>0</td>\n",
              "      <td>0</td>\n",
              "      <td>4</td>\n",
              "      <td>17.0</td>\n",
              "      <td>17.0</td>\n",
              "      <td>0.682927</td>\n",
              "      <td>0.58</td>\n",
              "      <td>0.0</td>\n",
              "      <td>...</td>\n",
              "      <td>0.282556</td>\n",
              "      <td>0.155969</td>\n",
              "      <td>0.206503</td>\n",
              "      <td>0.533002</td>\n",
              "      <td>0.373959</td>\n",
              "      <td>0.527733</td>\n",
              "      <td>0.095201</td>\n",
              "      <td>0.423040</td>\n",
              "      <td>0.330754</td>\n",
              "      <td>0.235558</td>\n",
              "    </tr>\n",
              "    <tr>\n",
              "      <th>4</th>\n",
              "      <td>7</td>\n",
              "      <td>11</td>\n",
              "      <td>1</td>\n",
              "      <td>1</td>\n",
              "      <td>5</td>\n",
              "      <td>10.0</td>\n",
              "      <td>10.0</td>\n",
              "      <td>0.731707</td>\n",
              "      <td>0.70</td>\n",
              "      <td>0.0</td>\n",
              "      <td>...</td>\n",
              "      <td>0.450453</td>\n",
              "      <td>0.199050</td>\n",
              "      <td>0.134002</td>\n",
              "      <td>0.688773</td>\n",
              "      <td>0.681724</td>\n",
              "      <td>0.733625</td>\n",
              "      <td>0.128719</td>\n",
              "      <td>0.448360</td>\n",
              "      <td>0.444946</td>\n",
              "      <td>0.312500</td>\n",
              "    </tr>\n",
              "  </tbody>\n",
              "</table>\n",
              "<p>5 rows × 799 columns</p>\n",
              "</div>\n",
              "      <button class=\"colab-df-convert\" onclick=\"convertToInteractive('df-c2b5b8b2-0125-4577-ab9a-21dc0b1b241f')\"\n",
              "              title=\"Convert this dataframe to an interactive table.\"\n",
              "              style=\"display:none;\">\n",
              "        \n",
              "  <svg xmlns=\"http://www.w3.org/2000/svg\" height=\"24px\"viewBox=\"0 0 24 24\"\n",
              "       width=\"24px\">\n",
              "    <path d=\"M0 0h24v24H0V0z\" fill=\"none\"/>\n",
              "    <path d=\"M18.56 5.44l.94 2.06.94-2.06 2.06-.94-2.06-.94-.94-2.06-.94 2.06-2.06.94zm-11 1L8.5 8.5l.94-2.06 2.06-.94-2.06-.94L8.5 2.5l-.94 2.06-2.06.94zm10 10l.94 2.06.94-2.06 2.06-.94-2.06-.94-.94-2.06-.94 2.06-2.06.94z\"/><path d=\"M17.41 7.96l-1.37-1.37c-.4-.4-.92-.59-1.43-.59-.52 0-1.04.2-1.43.59L10.3 9.45l-7.72 7.72c-.78.78-.78 2.05 0 2.83L4 21.41c.39.39.9.59 1.41.59.51 0 1.02-.2 1.41-.59l7.78-7.78 2.81-2.81c.8-.78.8-2.07 0-2.86zM5.41 20L4 18.59l7.72-7.72 1.47 1.35L5.41 20z\"/>\n",
              "  </svg>\n",
              "      </button>\n",
              "      \n",
              "  <style>\n",
              "    .colab-df-container {\n",
              "      display:flex;\n",
              "      flex-wrap:wrap;\n",
              "      gap: 12px;\n",
              "    }\n",
              "\n",
              "    .colab-df-convert {\n",
              "      background-color: #E8F0FE;\n",
              "      border: none;\n",
              "      border-radius: 50%;\n",
              "      cursor: pointer;\n",
              "      display: none;\n",
              "      fill: #1967D2;\n",
              "      height: 32px;\n",
              "      padding: 0 0 0 0;\n",
              "      width: 32px;\n",
              "    }\n",
              "\n",
              "    .colab-df-convert:hover {\n",
              "      background-color: #E2EBFA;\n",
              "      box-shadow: 0px 1px 2px rgba(60, 64, 67, 0.3), 0px 1px 3px 1px rgba(60, 64, 67, 0.15);\n",
              "      fill: #174EA6;\n",
              "    }\n",
              "\n",
              "    [theme=dark] .colab-df-convert {\n",
              "      background-color: #3B4455;\n",
              "      fill: #D2E3FC;\n",
              "    }\n",
              "\n",
              "    [theme=dark] .colab-df-convert:hover {\n",
              "      background-color: #434B5C;\n",
              "      box-shadow: 0px 1px 3px 1px rgba(0, 0, 0, 0.15);\n",
              "      filter: drop-shadow(0px 1px 2px rgba(0, 0, 0, 0.3));\n",
              "      fill: #FFFFFF;\n",
              "    }\n",
              "  </style>\n",
              "\n",
              "      <script>\n",
              "        const buttonEl =\n",
              "          document.querySelector('#df-c2b5b8b2-0125-4577-ab9a-21dc0b1b241f button.colab-df-convert');\n",
              "        buttonEl.style.display =\n",
              "          google.colab.kernel.accessAllowed ? 'block' : 'none';\n",
              "\n",
              "        async function convertToInteractive(key) {\n",
              "          const element = document.querySelector('#df-c2b5b8b2-0125-4577-ab9a-21dc0b1b241f');\n",
              "          const dataTable =\n",
              "            await google.colab.kernel.invokeFunction('convertToInteractive',\n",
              "                                                     [key], {});\n",
              "          if (!dataTable) return;\n",
              "\n",
              "          const docLinkHtml = 'Like what you see? Visit the ' +\n",
              "            '<a target=\"_blank\" href=https://colab.research.google.com/notebooks/data_table.ipynb>data table notebook</a>'\n",
              "            + ' to learn more about interactive tables.';\n",
              "          element.innerHTML = '';\n",
              "          dataTable['output_type'] = 'display_data';\n",
              "          await google.colab.output.renderOutput(dataTable, element);\n",
              "          const docLink = document.createElement('div');\n",
              "          docLink.innerHTML = docLinkHtml;\n",
              "          element.appendChild(docLink);\n",
              "        }\n",
              "      </script>\n",
              "    </div>\n",
              "  </div>\n",
              "  "
            ]
          },
          "metadata": {},
          "execution_count": 53
        }
      ]
    },
    {
      "cell_type": "code",
      "source": [
        "test= three_encode(test, 'winner', 'winner','draw')\n",
        "test=binary_encode(test, \"team\",\"team1\")\n",
        "test.head(5)"
      ],
      "metadata": {
        "colab": {
          "base_uri": "https://localhost:8080/",
          "height": 300
        },
        "id": "pf-HLIyRiFzp",
        "outputId": "e3e79916-1c47-4f54-fb00-76f88cc829d3"
      },
      "execution_count": null,
      "outputs": [
        {
          "output_type": "execute_result",
          "data": {
            "text/plain": [
              "   row_id  scout_id  winner  team  competitionId  player_position_1  \\\n",
              "0   14785        16       1     1            7.0                4.0   \n",
              "1   15125         2       1     1            9.0               11.0   \n",
              "2   13095        16       0     0           10.0               19.0   \n",
              "3    6079        16       0     1           11.0                3.0   \n",
              "4   16584        11       2     1            5.0                4.0   \n",
              "\n",
              "   player_position_2  player_height  player_weight  player_general_var_0  ...  \\\n",
              "0                4.0       0.317073           0.44                   0.0  ...   \n",
              "1               11.0       0.560976           0.60                   0.0  ...   \n",
              "2               19.0       0.195122           0.30                   0.0  ...   \n",
              "3                9.0       0.341463           0.30                   0.0  ...   \n",
              "4                4.0       0.585366           0.70                   0.2  ...   \n",
              "\n",
              "   team2_defensive_derived_var_10  team2_offensive_derived_var_11  \\\n",
              "0                        0.268842                        0.190509   \n",
              "1                        0.346640                        0.198072   \n",
              "2                        0.351175                        0.177065   \n",
              "3                        0.496021                        0.313902   \n",
              "4                        0.396398                        0.191068   \n",
              "\n",
              "   team2_offensive_derived_var_12  team2_offensive_derived_var_13  \\\n",
              "0                        0.311739                        0.628642   \n",
              "1                        0.246104                        0.536949   \n",
              "2                        0.262470                        0.650741   \n",
              "3                        0.405065                        0.490855   \n",
              "4                        0.042083                        0.838704   \n",
              "\n",
              "   team2_offensive_derived_var_14  team2_defensive_derived_var_15  \\\n",
              "0                        0.405323                        0.309039   \n",
              "1                        0.486006                        0.487637   \n",
              "2                        0.567063                        0.486774   \n",
              "3                        0.591251                        0.608131   \n",
              "4                        0.689723                        0.522480   \n",
              "\n",
              "   team2_offensive_derived_var_16  team2_defensive_derived_var_17  \\\n",
              "0                        0.114849                        0.454992   \n",
              "1                        0.105279                        0.501402   \n",
              "2                        0.062118                        0.251021   \n",
              "3                        0.294538                        0.322264   \n",
              "4                        0.090986                        0.437002   \n",
              "\n",
              "   team2_offensive_derived_var_18  team2_offensive_derived_var_19  \n",
              "0                        0.304133                        0.328816  \n",
              "1                        0.381214                        0.499620  \n",
              "2                        0.586227                        0.267774  \n",
              "3                        0.685016                        0.293783  \n",
              "4                        0.476399                        0.437500  \n",
              "\n",
              "[5 rows x 799 columns]"
            ],
            "text/html": [
              "\n",
              "  <div id=\"df-86b3774d-437a-49a4-8555-3b6495421534\">\n",
              "    <div class=\"colab-df-container\">\n",
              "      <div>\n",
              "<style scoped>\n",
              "    .dataframe tbody tr th:only-of-type {\n",
              "        vertical-align: middle;\n",
              "    }\n",
              "\n",
              "    .dataframe tbody tr th {\n",
              "        vertical-align: top;\n",
              "    }\n",
              "\n",
              "    .dataframe thead th {\n",
              "        text-align: right;\n",
              "    }\n",
              "</style>\n",
              "<table border=\"1\" class=\"dataframe\">\n",
              "  <thead>\n",
              "    <tr style=\"text-align: right;\">\n",
              "      <th></th>\n",
              "      <th>row_id</th>\n",
              "      <th>scout_id</th>\n",
              "      <th>winner</th>\n",
              "      <th>team</th>\n",
              "      <th>competitionId</th>\n",
              "      <th>player_position_1</th>\n",
              "      <th>player_position_2</th>\n",
              "      <th>player_height</th>\n",
              "      <th>player_weight</th>\n",
              "      <th>player_general_var_0</th>\n",
              "      <th>...</th>\n",
              "      <th>team2_defensive_derived_var_10</th>\n",
              "      <th>team2_offensive_derived_var_11</th>\n",
              "      <th>team2_offensive_derived_var_12</th>\n",
              "      <th>team2_offensive_derived_var_13</th>\n",
              "      <th>team2_offensive_derived_var_14</th>\n",
              "      <th>team2_defensive_derived_var_15</th>\n",
              "      <th>team2_offensive_derived_var_16</th>\n",
              "      <th>team2_defensive_derived_var_17</th>\n",
              "      <th>team2_offensive_derived_var_18</th>\n",
              "      <th>team2_offensive_derived_var_19</th>\n",
              "    </tr>\n",
              "  </thead>\n",
              "  <tbody>\n",
              "    <tr>\n",
              "      <th>0</th>\n",
              "      <td>14785</td>\n",
              "      <td>16</td>\n",
              "      <td>1</td>\n",
              "      <td>1</td>\n",
              "      <td>7.0</td>\n",
              "      <td>4.0</td>\n",
              "      <td>4.0</td>\n",
              "      <td>0.317073</td>\n",
              "      <td>0.44</td>\n",
              "      <td>0.0</td>\n",
              "      <td>...</td>\n",
              "      <td>0.268842</td>\n",
              "      <td>0.190509</td>\n",
              "      <td>0.311739</td>\n",
              "      <td>0.628642</td>\n",
              "      <td>0.405323</td>\n",
              "      <td>0.309039</td>\n",
              "      <td>0.114849</td>\n",
              "      <td>0.454992</td>\n",
              "      <td>0.304133</td>\n",
              "      <td>0.328816</td>\n",
              "    </tr>\n",
              "    <tr>\n",
              "      <th>1</th>\n",
              "      <td>15125</td>\n",
              "      <td>2</td>\n",
              "      <td>1</td>\n",
              "      <td>1</td>\n",
              "      <td>9.0</td>\n",
              "      <td>11.0</td>\n",
              "      <td>11.0</td>\n",
              "      <td>0.560976</td>\n",
              "      <td>0.60</td>\n",
              "      <td>0.0</td>\n",
              "      <td>...</td>\n",
              "      <td>0.346640</td>\n",
              "      <td>0.198072</td>\n",
              "      <td>0.246104</td>\n",
              "      <td>0.536949</td>\n",
              "      <td>0.486006</td>\n",
              "      <td>0.487637</td>\n",
              "      <td>0.105279</td>\n",
              "      <td>0.501402</td>\n",
              "      <td>0.381214</td>\n",
              "      <td>0.499620</td>\n",
              "    </tr>\n",
              "    <tr>\n",
              "      <th>2</th>\n",
              "      <td>13095</td>\n",
              "      <td>16</td>\n",
              "      <td>0</td>\n",
              "      <td>0</td>\n",
              "      <td>10.0</td>\n",
              "      <td>19.0</td>\n",
              "      <td>19.0</td>\n",
              "      <td>0.195122</td>\n",
              "      <td>0.30</td>\n",
              "      <td>0.0</td>\n",
              "      <td>...</td>\n",
              "      <td>0.351175</td>\n",
              "      <td>0.177065</td>\n",
              "      <td>0.262470</td>\n",
              "      <td>0.650741</td>\n",
              "      <td>0.567063</td>\n",
              "      <td>0.486774</td>\n",
              "      <td>0.062118</td>\n",
              "      <td>0.251021</td>\n",
              "      <td>0.586227</td>\n",
              "      <td>0.267774</td>\n",
              "    </tr>\n",
              "    <tr>\n",
              "      <th>3</th>\n",
              "      <td>6079</td>\n",
              "      <td>16</td>\n",
              "      <td>0</td>\n",
              "      <td>1</td>\n",
              "      <td>11.0</td>\n",
              "      <td>3.0</td>\n",
              "      <td>9.0</td>\n",
              "      <td>0.341463</td>\n",
              "      <td>0.30</td>\n",
              "      <td>0.0</td>\n",
              "      <td>...</td>\n",
              "      <td>0.496021</td>\n",
              "      <td>0.313902</td>\n",
              "      <td>0.405065</td>\n",
              "      <td>0.490855</td>\n",
              "      <td>0.591251</td>\n",
              "      <td>0.608131</td>\n",
              "      <td>0.294538</td>\n",
              "      <td>0.322264</td>\n",
              "      <td>0.685016</td>\n",
              "      <td>0.293783</td>\n",
              "    </tr>\n",
              "    <tr>\n",
              "      <th>4</th>\n",
              "      <td>16584</td>\n",
              "      <td>11</td>\n",
              "      <td>2</td>\n",
              "      <td>1</td>\n",
              "      <td>5.0</td>\n",
              "      <td>4.0</td>\n",
              "      <td>4.0</td>\n",
              "      <td>0.585366</td>\n",
              "      <td>0.70</td>\n",
              "      <td>0.2</td>\n",
              "      <td>...</td>\n",
              "      <td>0.396398</td>\n",
              "      <td>0.191068</td>\n",
              "      <td>0.042083</td>\n",
              "      <td>0.838704</td>\n",
              "      <td>0.689723</td>\n",
              "      <td>0.522480</td>\n",
              "      <td>0.090986</td>\n",
              "      <td>0.437002</td>\n",
              "      <td>0.476399</td>\n",
              "      <td>0.437500</td>\n",
              "    </tr>\n",
              "  </tbody>\n",
              "</table>\n",
              "<p>5 rows × 799 columns</p>\n",
              "</div>\n",
              "      <button class=\"colab-df-convert\" onclick=\"convertToInteractive('df-86b3774d-437a-49a4-8555-3b6495421534')\"\n",
              "              title=\"Convert this dataframe to an interactive table.\"\n",
              "              style=\"display:none;\">\n",
              "        \n",
              "  <svg xmlns=\"http://www.w3.org/2000/svg\" height=\"24px\"viewBox=\"0 0 24 24\"\n",
              "       width=\"24px\">\n",
              "    <path d=\"M0 0h24v24H0V0z\" fill=\"none\"/>\n",
              "    <path d=\"M18.56 5.44l.94 2.06.94-2.06 2.06-.94-2.06-.94-.94-2.06-.94 2.06-2.06.94zm-11 1L8.5 8.5l.94-2.06 2.06-.94-2.06-.94L8.5 2.5l-.94 2.06-2.06.94zm10 10l.94 2.06.94-2.06 2.06-.94-2.06-.94-.94-2.06-.94 2.06-2.06.94z\"/><path d=\"M17.41 7.96l-1.37-1.37c-.4-.4-.92-.59-1.43-.59-.52 0-1.04.2-1.43.59L10.3 9.45l-7.72 7.72c-.78.78-.78 2.05 0 2.83L4 21.41c.39.39.9.59 1.41.59.51 0 1.02-.2 1.41-.59l7.78-7.78 2.81-2.81c.8-.78.8-2.07 0-2.86zM5.41 20L4 18.59l7.72-7.72 1.47 1.35L5.41 20z\"/>\n",
              "  </svg>\n",
              "      </button>\n",
              "      \n",
              "  <style>\n",
              "    .colab-df-container {\n",
              "      display:flex;\n",
              "      flex-wrap:wrap;\n",
              "      gap: 12px;\n",
              "    }\n",
              "\n",
              "    .colab-df-convert {\n",
              "      background-color: #E8F0FE;\n",
              "      border: none;\n",
              "      border-radius: 50%;\n",
              "      cursor: pointer;\n",
              "      display: none;\n",
              "      fill: #1967D2;\n",
              "      height: 32px;\n",
              "      padding: 0 0 0 0;\n",
              "      width: 32px;\n",
              "    }\n",
              "\n",
              "    .colab-df-convert:hover {\n",
              "      background-color: #E2EBFA;\n",
              "      box-shadow: 0px 1px 2px rgba(60, 64, 67, 0.3), 0px 1px 3px 1px rgba(60, 64, 67, 0.15);\n",
              "      fill: #174EA6;\n",
              "    }\n",
              "\n",
              "    [theme=dark] .colab-df-convert {\n",
              "      background-color: #3B4455;\n",
              "      fill: #D2E3FC;\n",
              "    }\n",
              "\n",
              "    [theme=dark] .colab-df-convert:hover {\n",
              "      background-color: #434B5C;\n",
              "      box-shadow: 0px 1px 3px 1px rgba(0, 0, 0, 0.15);\n",
              "      filter: drop-shadow(0px 1px 2px rgba(0, 0, 0, 0.3));\n",
              "      fill: #FFFFFF;\n",
              "    }\n",
              "  </style>\n",
              "\n",
              "      <script>\n",
              "        const buttonEl =\n",
              "          document.querySelector('#df-86b3774d-437a-49a4-8555-3b6495421534 button.colab-df-convert');\n",
              "        buttonEl.style.display =\n",
              "          google.colab.kernel.accessAllowed ? 'block' : 'none';\n",
              "\n",
              "        async function convertToInteractive(key) {\n",
              "          const element = document.querySelector('#df-86b3774d-437a-49a4-8555-3b6495421534');\n",
              "          const dataTable =\n",
              "            await google.colab.kernel.invokeFunction('convertToInteractive',\n",
              "                                                     [key], {});\n",
              "          if (!dataTable) return;\n",
              "\n",
              "          const docLinkHtml = 'Like what you see? Visit the ' +\n",
              "            '<a target=\"_blank\" href=https://colab.research.google.com/notebooks/data_table.ipynb>data table notebook</a>'\n",
              "            + ' to learn more about interactive tables.';\n",
              "          element.innerHTML = '';\n",
              "          dataTable['output_type'] = 'display_data';\n",
              "          await google.colab.output.renderOutput(dataTable, element);\n",
              "          const docLink = document.createElement('div');\n",
              "          docLink.innerHTML = docLinkHtml;\n",
              "          element.appendChild(docLink);\n",
              "        }\n",
              "      </script>\n",
              "    </div>\n",
              "  </div>\n",
              "  "
            ]
          },
          "metadata": {},
          "execution_count": 54
        }
      ]
    },
    {
      "cell_type": "code",
      "source": [
        "def rmissingvaluecol(dff,threshold):\n",
        "    l = []\n",
        "    l = list(dff.drop(dff.loc[:,list((100*(dff.isnull().sum()/len(dff.index))>=threshold))].columns, 1).columns.values)\n",
        "    print(\"# Columns having more than %s percent missing values:\"%threshold,(dff.shape[1] - len(l)))\n",
        "    print(\"Columns:\\n\",list(set(list((dff.columns.values))) - set(l)))\n",
        "    return l\n",
        "\n",
        "l=rmissingvaluecol(features,30)\n",
        "df = features[l]"
      ],
      "metadata": {
        "colab": {
          "base_uri": "https://localhost:8080/"
        },
        "id": "Xo_r5sOB2yf4",
        "outputId": "fdd9e3e3-4f0b-4414-f3fe-a5bf6e4082b1"
      },
      "execution_count": null,
      "outputs": [
        {
          "output_type": "stream",
          "name": "stdout",
          "text": [
            "# Columns having more than 30 percent missing values: 135\n",
            "Columns:\n",
            " ['player_other_ratio_var_26', 'player_other_ratio_var_28', 'team1_other_ratio_var_32', 'player_physical_derived_var_74', 'player_physical_derived_var_105', 'player_defensive_ratio_var_29', 'team2_other_raw_var_33', 'team2_other_ratio_var_33', 'player_other_ratio_var_31', 'player_offensive_ratio_var_72', 'team1_other_raw_var_72', 'player_physical_derived_var_5', 'player_other_ratio_var_23', 'player_physical_derived_var_23', 'player_general_raw_var_143', 'player_other_ratio_var_7', 'player_physical_raw_var_198', 'player_other_ratio_var_36', 'player_physical_derived_var_30', 'team1_other_ratio_var_42', 'player_physical_derived_var_35', 'player_physical_derived_var_70', 'player_physical_derived_var_34', 'player_other_ratio_var_25', 'player_physical_derived_var_107', 'team1_other_raw_var_92', 'player_offensive_ratio_var_57', 'player_offensive_ratio_var_70', 'player_other_ratio_var_73', 'team2_other_raw_var_31', 'team2_other_raw_var_50', 'team2_other_raw_var_92', 'team1_other_raw_var_51', 'player_other_ratio_var_27', 'player_physical_derived_var_71', 'player_physical_raw_var_192', 'player_other_derived_var_140', 'player_offensive_ratio_var_12', 'player_offensive_ratio_var_20', 'player_other_ratio_var_33', 'player_physical_derived_var_75', 'player_other_ratio_var_74', 'team1_other_raw_var_40', 'player_offensive_ratio_var_21', 'player_other_ratio_var_71', 'player_physical_derived_var_28', 'player_physical_derived_var_59', 'player_other_derived_var_141', 'player_physical_raw_var_191', 'player_other_raw_var_197', 'player_physical_derived_var_118', 'player_physical_derived_var_39', 'player_other_derived_var_150', 'player_physical_derived_var_40', 'player_physical_derived_var_94', 'player_physical_derived_var_106', 'team1_other_raw_var_31', 'player_physical_raw_var_190', 'player_other_ratio_var_37', 'player_defensive_ratio_var_39', 'player_offensive_ratio_var_77', 'player_offensive_ratio_var_78', 'player_offensive_ratio_var_13', 'player_physical_derived_var_54', 'team1_other_ratio_var_33', 'player_other_ratio_var_14', 'team1_other_raw_var_19', 'player_physical_derived_var_62', 'player_physical_raw_var_195', 'player_defensive_ratio_var_38', 'player_other_derived_var_144', 'player_physical_derived_var_48', 'player_physical_derived_var_10', 'player_other_ratio_var_67', 'player_other_derived_var_160', 'player_physical_derived_var_82', 'team2_other_ratio_var_42', 'team1_other_raw_var_33', 'player_physical_derived_var_18', 'player_other_ratio_var_24', 'player_positional_ratio_var_79', 'player_offensive_ratio_var_69', 'player_physical_derived_var_121', 'team2_other_raw_var_43', 'team1_other_raw_var_38', 'player_offensive_ratio_var_40', 'player_physical_raw_var_196', 'player_physical_derived_var_112', 'player_physical_derived_var_133', 'player_other_ratio_var_80', 'team2_other_raw_var_19', 'player_physical_derived_var_6', 'player_physical_derived_var_111', 'player_positional_ratio_var_22', 'player_physical_raw_var_193', 'player_offensive_ratio_var_35', 'player_physical_derived_var_79', 'player_physical_derived_var_45', 'player_physical_derived_var_9', 'player_other_derived_var_157', 'team1_other_raw_var_43', 'team2_other_raw_var_72', 'player_offensive_ratio_var_68', 'player_other_ratio_var_34', 'player_physical_raw_var_189', 'player_other_ratio_var_18', 'player_other_ratio_var_32', 'player_other_ratio_var_66', 'player_other_ratio_var_65', 'player_other_derived_var_139', 'team1_other_raw_var_50', 'team2_other_raw_var_51', 'player_physical_derived_var_69', 'player_other_ratio_var_15', 'player_other_derived_var_143', 'team2_other_raw_var_82', 'player_physical_derived_var_88', 'player_offensive_ratio_var_59', 'player_physical_derived_var_131', 'team1_other_raw_var_82', 'player_physical_derived_var_16', 'player_physical_derived_var_97', 'team2_other_ratio_var_11', 'team1_other_ratio_var_10', 'player_physical_raw_var_194', 'player_defensive_ratio_var_16', 'player_other_ratio_var_75', 'player_other_derived_var_147', 'team2_other_ratio_var_32', 'team2_other_raw_var_40', 'player_physical_derived_var_36', 'player_physical_derived_var_4', 'team2_other_raw_var_38', 'player_physical_derived_var_126', 'player_offensive_ratio_var_19']\n"
          ]
        },
        {
          "output_type": "stream",
          "name": "stderr",
          "text": [
            "/usr/local/lib/python3.7/dist-packages/ipykernel_launcher.py:3: FutureWarning: In a future version of pandas all arguments of DataFrame.drop except for the argument 'labels' will be keyword-only\n",
            "  This is separate from the ipykernel package so we can avoid doing imports until\n"
          ]
        }
      ]
    },
    {
      "cell_type": "code",
      "source": [
        "def missing(dff):\n",
        "    print (round((dff.isnull().sum() * 100/ len(dff)),2).sort_values(ascending=False))\n",
        "missing(df)"
      ],
      "metadata": {
        "colab": {
          "base_uri": "https://localhost:8080/"
        },
        "id": "OJewfGNr2dfV",
        "outputId": "3b6d5586-0ad7-481d-e824-e84f9a699ce9"
      },
      "execution_count": null,
      "outputs": [
        {
          "output_type": "stream",
          "name": "stdout",
          "text": [
            "player_defensive_ratio_var_8     28.71\n",
            "player_other_ratio_var_44        27.74\n",
            "team2_other_ratio_var_10         27.11\n",
            "team1_other_ratio_var_11         26.93\n",
            "player_defensive_ratio_var_76    23.30\n",
            "                                 ...  \n",
            "player_general_var_2              0.00\n",
            "player_general_var_3              0.00\n",
            "player_general_var_4              0.00\n",
            "scout_id                          0.00\n",
            "row_id                            0.00\n",
            "Length: 664, dtype: float64\n"
          ]
        }
      ]
    },
    {
      "cell_type": "code",
      "source": [
        "df.apply(lambda x: x.fillna(x.median(),inplace=True)) "
      ],
      "metadata": {
        "id": "DnHdG5bR4Nr1",
        "colab": {
          "base_uri": "https://localhost:8080/"
        },
        "outputId": "1a51db93-5e08-419e-f341-7535286e5700"
      },
      "execution_count": null,
      "outputs": [
        {
          "output_type": "execute_result",
          "data": {
            "text/plain": [
              "row_id                            None\n",
              "scout_id                          None\n",
              "winner                            None\n",
              "team                              None\n",
              "competitionId                     None\n",
              "                                  ... \n",
              "team2_defensive_derived_var_15    None\n",
              "team2_offensive_derived_var_16    None\n",
              "team2_defensive_derived_var_17    None\n",
              "team2_offensive_derived_var_18    None\n",
              "team2_offensive_derived_var_19    None\n",
              "Length: 664, dtype: object"
            ]
          },
          "metadata": {},
          "execution_count": 57
        }
      ]
    },
    {
      "cell_type": "code",
      "source": [
        "#Check for  null values\n",
        "df.isnull().sum()"
      ],
      "metadata": {
        "colab": {
          "base_uri": "https://localhost:8080/"
        },
        "id": "IfiZ4-RZy3cX",
        "outputId": "66b9a2d6-0bfd-4be3-e4ae-0454cbe4b799"
      },
      "execution_count": null,
      "outputs": [
        {
          "output_type": "execute_result",
          "data": {
            "text/plain": [
              "row_id                            0\n",
              "scout_id                          0\n",
              "winner                            0\n",
              "team                              0\n",
              "competitionId                     0\n",
              "                                 ..\n",
              "team2_defensive_derived_var_15    0\n",
              "team2_offensive_derived_var_16    0\n",
              "team2_defensive_derived_var_17    0\n",
              "team2_offensive_derived_var_18    0\n",
              "team2_offensive_derived_var_19    0\n",
              "Length: 664, dtype: int64"
            ]
          },
          "metadata": {},
          "execution_count": 58
        }
      ]
    },
    {
      "cell_type": "code",
      "source": [
        "test=test[l]\n",
        "test.shape"
      ],
      "metadata": {
        "colab": {
          "base_uri": "https://localhost:8080/"
        },
        "id": "iD1piLbujSWC",
        "outputId": "045a0a74-2300-48e4-8672-65d27f8b6586"
      },
      "execution_count": null,
      "outputs": [
        {
          "output_type": "execute_result",
          "data": {
            "text/plain": [
              "(8774, 664)"
            ]
          },
          "metadata": {},
          "execution_count": 59
        }
      ]
    },
    {
      "cell_type": "code",
      "source": [
        "test.shape"
      ],
      "metadata": {
        "colab": {
          "base_uri": "https://localhost:8080/"
        },
        "id": "7h40wKuveqaL",
        "outputId": "f69b9647-ea60-46ed-c46e-6e2d369f41df"
      },
      "execution_count": null,
      "outputs": [
        {
          "output_type": "execute_result",
          "data": {
            "text/plain": [
              "(8774, 664)"
            ]
          },
          "metadata": {},
          "execution_count": 60
        }
      ]
    },
    {
      "cell_type": "code",
      "source": [
        "test = test.drop(columns=[col for col in df if col not in df.columns.values.tolist()])"
      ],
      "metadata": {
        "id": "NPytEoaLfDbl"
      },
      "execution_count": null,
      "outputs": []
    },
    {
      "cell_type": "code",
      "source": [
        "test.isnull().sum()"
      ],
      "metadata": {
        "colab": {
          "base_uri": "https://localhost:8080/"
        },
        "id": "2JchrgEkgAv6",
        "outputId": "5997de55-08c8-4117-9ac9-ba978a65e3f1"
      },
      "execution_count": null,
      "outputs": [
        {
          "output_type": "execute_result",
          "data": {
            "text/plain": [
              "row_id                              0\n",
              "scout_id                            0\n",
              "winner                              0\n",
              "team                                0\n",
              "competitionId                       1\n",
              "                                 ... \n",
              "team2_defensive_derived_var_15    416\n",
              "team2_offensive_derived_var_16    416\n",
              "team2_defensive_derived_var_17    416\n",
              "team2_offensive_derived_var_18    416\n",
              "team2_offensive_derived_var_19    416\n",
              "Length: 664, dtype: int64"
            ]
          },
          "metadata": {},
          "execution_count": 62
        }
      ]
    },
    {
      "cell_type": "code",
      "source": [
        "test.apply(lambda x: x.fillna(x.median(),inplace=True)) "
      ],
      "metadata": {
        "colab": {
          "base_uri": "https://localhost:8080/"
        },
        "id": "IYud9H2jf9fn",
        "outputId": "889ed7fa-73f9-4640-a0b6-b075f1ebb5c4"
      },
      "execution_count": null,
      "outputs": [
        {
          "output_type": "execute_result",
          "data": {
            "text/plain": [
              "row_id                            None\n",
              "scout_id                          None\n",
              "winner                            None\n",
              "team                              None\n",
              "competitionId                     None\n",
              "                                  ... \n",
              "team2_defensive_derived_var_15    None\n",
              "team2_offensive_derived_var_16    None\n",
              "team2_defensive_derived_var_17    None\n",
              "team2_offensive_derived_var_18    None\n",
              "team2_offensive_derived_var_19    None\n",
              "Length: 664, dtype: object"
            ]
          },
          "metadata": {},
          "execution_count": 63
        }
      ]
    },
    {
      "cell_type": "code",
      "source": [
        "test.isnull().sum()"
      ],
      "metadata": {
        "colab": {
          "base_uri": "https://localhost:8080/"
        },
        "id": "BFaC3EwQhOE_",
        "outputId": "f8d6f28d-ef4e-4333-ea3a-256a6442e1ae"
      },
      "execution_count": null,
      "outputs": [
        {
          "output_type": "execute_result",
          "data": {
            "text/plain": [
              "row_id                            0\n",
              "scout_id                          0\n",
              "winner                            0\n",
              "team                              0\n",
              "competitionId                     0\n",
              "                                 ..\n",
              "team2_defensive_derived_var_15    0\n",
              "team2_offensive_derived_var_16    0\n",
              "team2_defensive_derived_var_17    0\n",
              "team2_offensive_derived_var_18    0\n",
              "team2_offensive_derived_var_19    0\n",
              "Length: 664, dtype: int64"
            ]
          },
          "metadata": {},
          "execution_count": 64
        }
      ]
    },
    {
      "cell_type": "code",
      "source": [
        "#df= train.to_numpy()\n",
        "# split data into input and output columns\n",
        "#X, y = df[:, :-1], df[:, -1]"
      ],
      "metadata": {
        "id": "lK4Rn6iVxNi0"
      },
      "execution_count": null,
      "outputs": []
    },
    {
      "cell_type": "code",
      "source": [
        "# creating testing and training datasets\n",
        "#spliting the data in to test and train sets\n",
        "from sklearn.model_selection import train_test_split\n",
        "\n",
        "X_train, X_test, y_train, y_test = train_test_split(df, label, test_size = 0.3)\n",
        "y_train = np.ravel(y_train)\n",
        "y_test = np.ravel(y_test)"
      ],
      "metadata": {
        "id": "dgVpU4FFo9Lw"
      },
      "execution_count": null,
      "outputs": []
    },
    {
      "cell_type": "code",
      "source": [
        "!pip uninstall scikit-learn -y\n",
        "\n",
        "!pip install -U scikit-learn"
      ],
      "metadata": {
        "id": "pSItyr1iva02",
        "colab": {
          "base_uri": "https://localhost:8080/",
          "height": 311
        },
        "outputId": "176dc8f2-53d1-442a-dd2d-52e233bb4172"
      },
      "execution_count": null,
      "outputs": [
        {
          "output_type": "stream",
          "name": "stdout",
          "text": [
            "Found existing installation: scikit-learn 1.0.2\n",
            "Uninstalling scikit-learn-1.0.2:\n",
            "  Successfully uninstalled scikit-learn-1.0.2\n",
            "Looking in indexes: https://pypi.org/simple, https://us-python.pkg.dev/colab-wheels/public/simple/\n",
            "Collecting scikit-learn\n",
            "  Using cached scikit_learn-1.0.2-cp37-cp37m-manylinux_2_17_x86_64.manylinux2014_x86_64.whl (24.8 MB)\n",
            "Requirement already satisfied: numpy>=1.14.6 in /usr/local/lib/python3.7/dist-packages (from scikit-learn) (1.21.6)\n",
            "Requirement already satisfied: scipy>=1.1.0 in /usr/local/lib/python3.7/dist-packages (from scikit-learn) (1.4.1)\n",
            "Requirement already satisfied: threadpoolctl>=2.0.0 in /usr/local/lib/python3.7/dist-packages (from scikit-learn) (3.1.0)\n",
            "Requirement already satisfied: joblib>=0.11 in /usr/local/lib/python3.7/dist-packages (from scikit-learn) (1.1.0)\n",
            "Installing collected packages: scikit-learn\n",
            "Successfully installed scikit-learn-1.0.2\n"
          ]
        },
        {
          "output_type": "display_data",
          "data": {
            "application/vnd.colab-display-data+json": {
              "pip_warning": {
                "packages": [
                  "sklearn"
                ]
              }
            }
          },
          "metadata": {}
        }
      ]
    },
    {
      "cell_type": "markdown",
      "source": [
        "# Feature Selection"
      ],
      "metadata": {
        "id": "OYB093h0DYpQ"
      }
    },
    {
      "cell_type": "markdown",
      "source": [
        "Selecting all features"
      ],
      "metadata": {
        "id": "SwGc6ST4DdJt"
      }
    },
    {
      "cell_type": "code",
      "source": [
        "from sklearn.feature_selection import SelectKBest, chi2,f_regression\n",
        "# configure to select all features\n",
        "fs = SelectKBest(score_func=f_regression, k='all')\n",
        "# learn relationship from training data\n",
        "fs.fit(X_train, y_train)\n",
        "# transform train input data\n",
        "X_train_fs = fs.transform(X_train)\n",
        "# transform test input data\n",
        "X_test_fs = fs.transform(X_test)\n",
        "#print(X_train_fs, X_test_fs, fs)"
      ],
      "metadata": {
        "id": "V4VRNwTgqko9",
        "colab": {
          "base_uri": "https://localhost:8080/"
        },
        "outputId": "0aad1aef-7061-437d-fcab-d95ebfe58a76"
      },
      "execution_count": null,
      "outputs": [
        {
          "output_type": "stream",
          "name": "stderr",
          "text": [
            "/usr/local/lib/python3.7/dist-packages/sklearn/feature_selection/_univariate_selection.py:289: RuntimeWarning: invalid value encountered in true_divide\n",
            "  correlation_coefficient /= X_norms\n"
          ]
        }
      ]
    },
    {
      "cell_type": "code",
      "source": [
        "# what are scores for the features\n",
        "for i in range(len(fs.scores_)):\n",
        "\tprint('Feature %d: %f' % (i, fs.scores_[i]))\n",
        "# plot the scores\n",
        "from matplotlib import pyplot\n",
        "pyplot.bar([i for i in range(len(fs.scores_))], fs.scores_)\n",
        "pyplot.show()"
      ],
      "metadata": {
        "id": "UhT3jzxzu0zD"
      },
      "execution_count": null,
      "outputs": []
    },
    {
      "cell_type": "markdown",
      "source": [
        "Selecting using mutual information"
      ],
      "metadata": {
        "id": "hHX9kJ59DgLt"
      }
    },
    {
      "cell_type": "code",
      "source": [
        "from sklearn.feature_selection import SelectKBest, chi2,mutual_info_regression\n",
        "...\n",
        "# feature selection\n",
        "def select_features(X_train, y_train, X_test):\n",
        "\t# configure to select all features\n",
        "\tfs = SelectKBest(score_func=mutual_info_regression, k='all')\n",
        "\t# learn relationship from training data\n",
        "\tfs.fit(X_train, y_train)\n",
        "\t# transform train input data\n",
        "\tX_train_fs = fs.transform(X_train)\n",
        "\t# transform test input data\n",
        "\tX_test_fs = fs.transform(X_test)\n",
        "\treturn X_train_fs, X_test_fs, fs\n",
        "\n",
        "# feature selection\n",
        "X_train_fs, X_test_fs, fs = select_features(X_train, y_train, X_test)\n",
        "# what are scores for the features\n",
        "for i in range(len(fs.scores_)):\n",
        "\tprint('Feature %d: %f' % (i, fs.scores_[i]))\n",
        "# plot the scores\n",
        "pyplot.bar([i for i in range(len(fs.scores_))], fs.scores_)\n",
        "pyplot.show()"
      ],
      "metadata": {
        "id": "6tEGOwZzAo7Y"
      },
      "execution_count": null,
      "outputs": []
    },
    {
      "cell_type": "markdown",
      "source": [
        "#Modelling\n"
      ],
      "metadata": {
        "id": "XgZX4gI9B1kU"
      }
    },
    {
      "cell_type": "code",
      "source": [
        "#Model using all features\n",
        "import xgboost\n",
        "from xgboost import XGBRegressor\n",
        "# create an xgboost regression model\n",
        "model_0 = XGBRegressor(n_estimators=40, max_depth=5)#, eta=0.1, subsample=0.7, colsample_bytree=0.8)\n",
        "# define model evaluation method\n",
        "from sklearn.model_selection import RepeatedKFold\n",
        "cv = RepeatedKFold(n_splits=10, n_repeats=3, random_state=1)\n",
        "# evaluate model\n",
        "from sklearn.model_selection import cross_val_score\n",
        "scores = cross_val_score(model_0, X_train, y_train, scoring='neg_mean_absolute_error', cv=cv, n_jobs=-1)"
      ],
      "metadata": {
        "id": "gBjkYA2Gst37"
      },
      "execution_count": null,
      "outputs": []
    },
    {
      "cell_type": "code",
      "source": [
        "scores\n"
      ],
      "metadata": {
        "colab": {
          "base_uri": "https://localhost:8080/"
        },
        "id": "WugnT8fz0vnl",
        "outputId": "8edb90a4-2ee5-4ab6-93e4-1f08a0702de1"
      },
      "execution_count": null,
      "outputs": [
        {
          "output_type": "execute_result",
          "data": {
            "text/plain": [
              "array([-1.24145127, -1.21167654, -1.16947837, -1.18718343, -1.21496247,\n",
              "       -1.16288786, -1.20188624, -1.23495396, -1.22503476, -1.21132669,\n",
              "       -1.23443946, -1.1702512 , -1.19067225, -1.23624307, -1.1990616 ,\n",
              "       -1.21041403, -1.23390445, -1.1556063 , -1.21799948, -1.22152043,\n",
              "       -1.2032351 , -1.19271044, -1.21847938, -1.1900891 , -1.21310198,\n",
              "       -1.23702623, -1.25248593, -1.21885152, -1.14928129, -1.19460098])"
            ]
          },
          "metadata": {},
          "execution_count": 72
        }
      ]
    },
    {
      "cell_type": "code",
      "source": [
        "# feature selection function\n",
        "def select_features(X_train, y_train, X_test, test):\n",
        "\t# configure to select a subset of features\n",
        "\tfs = SelectKBest(score_func=f_regression, k='all')\n",
        "\t# learn relationship from training data\n",
        "\tfs.fit(X_train, y_train)\n",
        "\t# transform train input data\n",
        "\tX_train_fs = fs.transform(X_train)\n",
        "\t# transform test input data\n",
        "\tX_test_fs = fs.transform(X_test)\n",
        "\tTest_fs = fs.transform(test)\n",
        "\treturn X_train_fs, X_test_fs, Test_fs, fs"
      ],
      "metadata": {
        "id": "ZFTHBKH8B5M1"
      },
      "execution_count": null,
      "outputs": []
    },
    {
      "cell_type": "markdown",
      "source": [
        "MODEL 2"
      ],
      "metadata": {
        "id": "4DPQbfelvMDz"
      }
    },
    {
      "cell_type": "code",
      "source": [
        "!pip install bayesian-optimization"
      ],
      "metadata": {
        "colab": {
          "base_uri": "https://localhost:8080/"
        },
        "id": "S3QN3bEksVxa",
        "outputId": "af65f6d0-050f-4d3a-a195-3bd4de594304"
      },
      "execution_count": null,
      "outputs": [
        {
          "output_type": "stream",
          "name": "stdout",
          "text": [
            "Looking in indexes: https://pypi.org/simple, https://us-python.pkg.dev/colab-wheels/public/simple/\n",
            "Requirement already satisfied: bayesian-optimization in /usr/local/lib/python3.7/dist-packages (1.2.0)\n",
            "Requirement already satisfied: scipy>=0.14.0 in /usr/local/lib/python3.7/dist-packages (from bayesian-optimization) (1.4.1)\n",
            "Requirement already satisfied: scikit-learn>=0.18.0 in /usr/local/lib/python3.7/dist-packages (from bayesian-optimization) (1.0.2)\n",
            "Requirement already satisfied: numpy>=1.9.0 in /usr/local/lib/python3.7/dist-packages (from bayesian-optimization) (1.21.6)\n",
            "Requirement already satisfied: threadpoolctl>=2.0.0 in /usr/local/lib/python3.7/dist-packages (from scikit-learn>=0.18.0->bayesian-optimization) (3.1.0)\n",
            "Requirement already satisfied: joblib>=0.11 in /usr/local/lib/python3.7/dist-packages (from scikit-learn>=0.18.0->bayesian-optimization) (1.1.0)\n"
          ]
        }
      ]
    },
    {
      "cell_type": "code",
      "source": [
        "import xgboost as xgb\n",
        "from sklearn.metrics import r2_score\n",
        "def bo_tune_xgb(max_depth, gamma, n_estimators ,learning_rate):\n",
        "     params = {'max_depth': int(max_depth),\n",
        "              'gamma': gamma,\n",
        "              'n_estimators': int(n_estimators),\n",
        "              'learning_rate':learning_rate,\n",
        "              'subsample': 0.8,\n",
        "              'eta': 0.1,\n",
        "              'eval_metric': 'rmse'\n",
        "              }\n",
        "     #Cross validating with the specified parameters in 5 folds and 70 iterations\n",
        "     dtrain = xgb.DMatrix(X_train_fs, label=y_train)\n",
        "     dtest  = xgb.DMatrix(X_test_fs,label = y_test)\n",
        "     cv_result = xgb.cv(params, dtrain, nfold=5)\n",
        "\n",
        "     #Return the negative RMSE\n",
        "     return -1.0 * cv_result['test-rmse-mean'].iloc[-1]\n",
        "     #return -1.0 * valid_error\n"
      ],
      "metadata": {
        "id": "z2ZIh15GsXQZ"
      },
      "execution_count": null,
      "outputs": []
    },
    {
      "cell_type": "code",
      "source": [
        "from bayes_opt import BayesianOptimization\n",
        "#Invoking the Bayesian Optimizer with the specified parameters to tune\n",
        "xgb_bo = BayesianOptimization(bo_tune_xgb, {'max_depth': (3, 5),\n",
        "                                             'gamma': (0, 1),\n",
        "                                             'learning_rate':(0,1),\n",
        "                                             'n_estimators':(100,600)\n",
        "                                            })\n",
        "\n"
      ],
      "metadata": {
        "id": "jIDJm0FYtIyK"
      },
      "execution_count": null,
      "outputs": []
    },
    {
      "cell_type": "code",
      "source": [
        "#performing Bayesian optimization for 5 iterations with 8 steps of random exploration with an #acquisition function of expected improvement\n",
        "\n",
        "xgb_bo.maximize(n_iter=50, init_points=8, acq='ei')"
      ],
      "metadata": {
        "colab": {
          "base_uri": "https://localhost:8080/"
        },
        "id": "QMYNAOSetZwz",
        "outputId": "03212d47-0cc4-4000-95fe-176d4b3e43ac"
      },
      "execution_count": null,
      "outputs": [
        {
          "output_type": "stream",
          "name": "stdout",
          "text": [
            "|   iter    |  target   |   gamma   | learni... | max_depth | n_esti... |\n",
            "-------------------------------------------------------------------------\n",
            "| \u001b[0m 1       \u001b[0m | \u001b[0m-1.689   \u001b[0m | \u001b[0m 0.2513  \u001b[0m | \u001b[0m 0.3518  \u001b[0m | \u001b[0m 5.0     \u001b[0m | \u001b[0m 233.3   \u001b[0m |\n",
            "| \u001b[0m 2       \u001b[0m | \u001b[0m-1.708   \u001b[0m | \u001b[0m 0.2484  \u001b[0m | \u001b[0m 0.6677  \u001b[0m | \u001b[0m 4.032   \u001b[0m | \u001b[0m 378.4   \u001b[0m |\n",
            "| \u001b[0m 3       \u001b[0m | \u001b[0m-1.743   \u001b[0m | \u001b[0m 0.7607  \u001b[0m | \u001b[0m 0.8384  \u001b[0m | \u001b[0m 4.949   \u001b[0m | \u001b[0m 518.9   \u001b[0m |\n",
            "| \u001b[0m 4       \u001b[0m | \u001b[0m-1.692   \u001b[0m | \u001b[0m 0.5633  \u001b[0m | \u001b[0m 0.4621  \u001b[0m | \u001b[0m 4.547   \u001b[0m | \u001b[0m 357.5   \u001b[0m |\n",
            "| \u001b[0m 5       \u001b[0m | \u001b[0m-1.707   \u001b[0m | \u001b[0m 0.1416  \u001b[0m | \u001b[0m 0.3483  \u001b[0m | \u001b[0m 3.287   \u001b[0m | \u001b[0m 251.8   \u001b[0m |\n",
            "| \u001b[0m 6       \u001b[0m | \u001b[0m-1.708   \u001b[0m | \u001b[0m 0.1251  \u001b[0m | \u001b[0m 0.8034  \u001b[0m | \u001b[0m 3.7     \u001b[0m | \u001b[0m 105.0   \u001b[0m |\n",
            "| \u001b[0m 7       \u001b[0m | \u001b[0m-1.752   \u001b[0m | \u001b[0m 0.3814  \u001b[0m | \u001b[0m 0.9228  \u001b[0m | \u001b[0m 4.96    \u001b[0m | \u001b[0m 360.1   \u001b[0m |\n",
            "| \u001b[0m 8       \u001b[0m | \u001b[0m-1.723   \u001b[0m | \u001b[0m 0.3418  \u001b[0m | \u001b[0m 0.7273  \u001b[0m | \u001b[0m 4.849   \u001b[0m | \u001b[0m 343.7   \u001b[0m |\n",
            "| \u001b[0m 9       \u001b[0m | \u001b[0m-2.656   \u001b[0m | \u001b[0m 0.7341  \u001b[0m | \u001b[0m 0.1094  \u001b[0m | \u001b[0m 4.664   \u001b[0m | \u001b[0m 540.0   \u001b[0m |\n",
            "| \u001b[0m 10      \u001b[0m | \u001b[0m-1.711   \u001b[0m | \u001b[0m 0.9234  \u001b[0m | \u001b[0m 0.6426  \u001b[0m | \u001b[0m 4.445   \u001b[0m | \u001b[0m 506.3   \u001b[0m |\n",
            "| \u001b[0m 11      \u001b[0m | \u001b[0m-6.641   \u001b[0m | \u001b[0m 0.6582  \u001b[0m | \u001b[0m 0.0     \u001b[0m | \u001b[0m 3.0     \u001b[0m | \u001b[0m 393.9   \u001b[0m |\n",
            "| \u001b[0m 12      \u001b[0m | \u001b[0m-1.87    \u001b[0m | \u001b[0m 0.3104  \u001b[0m | \u001b[0m 0.1961  \u001b[0m | \u001b[0m 3.864   \u001b[0m | \u001b[0m 371.8   \u001b[0m |\n",
            "| \u001b[0m 13      \u001b[0m | \u001b[0m-1.727   \u001b[0m | \u001b[0m 0.7505  \u001b[0m | \u001b[0m 0.8773  \u001b[0m | \u001b[0m 3.146   \u001b[0m | \u001b[0m 242.3   \u001b[0m |\n",
            "| \u001b[0m 14      \u001b[0m | \u001b[0m-1.712   \u001b[0m | \u001b[0m 0.857   \u001b[0m | \u001b[0m 0.8184  \u001b[0m | \u001b[0m 3.158   \u001b[0m | \u001b[0m 118.8   \u001b[0m |\n",
            "| \u001b[0m 15      \u001b[0m | \u001b[0m-1.741   \u001b[0m | \u001b[0m 0.7181  \u001b[0m | \u001b[0m 0.9619  \u001b[0m | \u001b[0m 3.039   \u001b[0m | \u001b[0m 218.1   \u001b[0m |\n",
            "| \u001b[0m 16      \u001b[0m | \u001b[0m-1.848   \u001b[0m | \u001b[0m 1.0     \u001b[0m | \u001b[0m 1.0     \u001b[0m | \u001b[0m 5.0     \u001b[0m | \u001b[0m 267.5   \u001b[0m |\n",
            "| \u001b[0m 17      \u001b[0m | \u001b[0m-1.7     \u001b[0m | \u001b[0m 0.2884  \u001b[0m | \u001b[0m 0.3148  \u001b[0m | \u001b[0m 4.96    \u001b[0m | \u001b[0m 134.3   \u001b[0m |\n",
            "| \u001b[0m 18      \u001b[0m | \u001b[0m-1.711   \u001b[0m | \u001b[0m 0.9399  \u001b[0m | \u001b[0m 0.6564  \u001b[0m | \u001b[0m 3.082   \u001b[0m | \u001b[0m 149.2   \u001b[0m |\n",
            "| \u001b[0m 19      \u001b[0m | \u001b[0m-6.641   \u001b[0m | \u001b[0m 0.0     \u001b[0m | \u001b[0m 0.0     \u001b[0m | \u001b[0m 5.0     \u001b[0m | \u001b[0m 164.5   \u001b[0m |\n",
            "| \u001b[0m 20      \u001b[0m | \u001b[0m-1.706   \u001b[0m | \u001b[0m 0.8427  \u001b[0m | \u001b[0m 0.3448  \u001b[0m | \u001b[0m 3.081   \u001b[0m | \u001b[0m 142.7   \u001b[0m |\n",
            "| \u001b[0m 21      \u001b[0m | \u001b[0m-1.842   \u001b[0m | \u001b[0m 0.0     \u001b[0m | \u001b[0m 1.0     \u001b[0m | \u001b[0m 5.0     \u001b[0m | \u001b[0m 490.6   \u001b[0m |\n",
            "| \u001b[0m 22      \u001b[0m | \u001b[0m-6.641   \u001b[0m | \u001b[0m 0.6194  \u001b[0m | \u001b[0m 0.0     \u001b[0m | \u001b[0m 3.0     \u001b[0m | \u001b[0m 327.8   \u001b[0m |\n",
            "| \u001b[0m 23      \u001b[0m | \u001b[0m-1.737   \u001b[0m | \u001b[0m 0.3292  \u001b[0m | \u001b[0m 0.8884  \u001b[0m | \u001b[0m 4.824   \u001b[0m | \u001b[0m 348.8   \u001b[0m |\n",
            "| \u001b[0m 24      \u001b[0m | \u001b[0m-1.705   \u001b[0m | \u001b[0m 0.4966  \u001b[0m | \u001b[0m 0.404   \u001b[0m | \u001b[0m 3.238   \u001b[0m | \u001b[0m 474.0   \u001b[0m |\n",
            "| \u001b[0m 25      \u001b[0m | \u001b[0m-1.842   \u001b[0m | \u001b[0m 0.0     \u001b[0m | \u001b[0m 1.0     \u001b[0m | \u001b[0m 5.0     \u001b[0m | \u001b[0m 459.9   \u001b[0m |\n",
            "| \u001b[0m 26      \u001b[0m | \u001b[0m-2.548   \u001b[0m | \u001b[0m 0.2311  \u001b[0m | \u001b[0m 0.1166  \u001b[0m | \u001b[0m 3.25    \u001b[0m | \u001b[0m 443.0   \u001b[0m |\n",
            "| \u001b[0m 27      \u001b[0m | \u001b[0m-6.641   \u001b[0m | \u001b[0m 1.0     \u001b[0m | \u001b[0m 0.0     \u001b[0m | \u001b[0m 5.0     \u001b[0m | \u001b[0m 204.9   \u001b[0m |\n",
            "| \u001b[0m 28      \u001b[0m | \u001b[0m-1.713   \u001b[0m | \u001b[0m 0.3419  \u001b[0m | \u001b[0m 0.8264  \u001b[0m | \u001b[0m 3.059   \u001b[0m | \u001b[0m 224.1   \u001b[0m |\n",
            "| \u001b[0m 29      \u001b[0m | \u001b[0m-6.641   \u001b[0m | \u001b[0m 0.0     \u001b[0m | \u001b[0m 0.0     \u001b[0m | \u001b[0m 3.0     \u001b[0m | \u001b[0m 282.2   \u001b[0m |\n",
            "| \u001b[0m 30      \u001b[0m | \u001b[0m-1.748   \u001b[0m | \u001b[0m 0.2872  \u001b[0m | \u001b[0m 0.8752  \u001b[0m | \u001b[0m 4.933   \u001b[0m | \u001b[0m 260.5   \u001b[0m |\n",
            "| \u001b[0m 31      \u001b[0m | \u001b[0m-1.705   \u001b[0m | \u001b[0m 0.6363  \u001b[0m | \u001b[0m 0.5218  \u001b[0m | \u001b[0m 3.099   \u001b[0m | \u001b[0m 600.0   \u001b[0m |\n",
            "| \u001b[0m 32      \u001b[0m | \u001b[0m-1.744   \u001b[0m | \u001b[0m 0.1982  \u001b[0m | \u001b[0m 1.0     \u001b[0m | \u001b[0m 3.0     \u001b[0m | \u001b[0m 587.5   \u001b[0m |\n",
            "| \u001b[0m 33      \u001b[0m | \u001b[0m-6.641   \u001b[0m | \u001b[0m 1.0     \u001b[0m | \u001b[0m 0.0     \u001b[0m | \u001b[0m 5.0     \u001b[0m | \u001b[0m 572.8   \u001b[0m |\n",
            "| \u001b[0m 34      \u001b[0m | \u001b[0m-1.743   \u001b[0m | \u001b[0m 0.1379  \u001b[0m | \u001b[0m 0.9891  \u001b[0m | \u001b[0m 3.456   \u001b[0m | \u001b[0m 593.0   \u001b[0m |\n",
            "| \u001b[0m 35      \u001b[0m | \u001b[0m-1.712   \u001b[0m | \u001b[0m 0.9961  \u001b[0m | \u001b[0m 0.8108  \u001b[0m | \u001b[0m 3.003   \u001b[0m | \u001b[0m 126.6   \u001b[0m |\n",
            "| \u001b[0m 36      \u001b[0m | \u001b[0m-1.785   \u001b[0m | \u001b[0m 0.8402  \u001b[0m | \u001b[0m 0.2209  \u001b[0m | \u001b[0m 4.748   \u001b[0m | \u001b[0m 481.6   \u001b[0m |\n",
            "| \u001b[0m 37      \u001b[0m | \u001b[0m-6.641   \u001b[0m | \u001b[0m 1.0     \u001b[0m | \u001b[0m 0.0     \u001b[0m | \u001b[0m 5.0     \u001b[0m | \u001b[0m 111.5   \u001b[0m |\n",
            "| \u001b[0m 38      \u001b[0m | \u001b[0m-1.712   \u001b[0m | \u001b[0m 0.4777  \u001b[0m | \u001b[0m 0.7495  \u001b[0m | \u001b[0m 3.242   \u001b[0m | \u001b[0m 101.4   \u001b[0m |\n",
            "| \u001b[0m 39      \u001b[0m | \u001b[0m-1.704   \u001b[0m | \u001b[0m 0.5273  \u001b[0m | \u001b[0m 0.3545  \u001b[0m | \u001b[0m 3.107   \u001b[0m | \u001b[0m 122.3   \u001b[0m |\n",
            "| \u001b[0m 40      \u001b[0m | \u001b[0m-1.744   \u001b[0m | \u001b[0m 0.0     \u001b[0m | \u001b[0m 1.0     \u001b[0m | \u001b[0m 3.631   \u001b[0m | \u001b[0m 512.6   \u001b[0m |\n",
            "| \u001b[0m 41      \u001b[0m | \u001b[0m-1.848   \u001b[0m | \u001b[0m 1.0     \u001b[0m | \u001b[0m 1.0     \u001b[0m | \u001b[0m 5.0     \u001b[0m | \u001b[0m 467.1   \u001b[0m |\n",
            "| \u001b[0m 42      \u001b[0m | \u001b[0m-1.703   \u001b[0m | \u001b[0m 0.4523  \u001b[0m | \u001b[0m 0.3751  \u001b[0m | \u001b[0m 3.167   \u001b[0m | \u001b[0m 498.7   \u001b[0m |\n",
            "| \u001b[0m 43      \u001b[0m | \u001b[0m-1.848   \u001b[0m | \u001b[0m 1.0     \u001b[0m | \u001b[0m 1.0     \u001b[0m | \u001b[0m 5.0     \u001b[0m | \u001b[0m 247.2   \u001b[0m |\n",
            "| \u001b[0m 44      \u001b[0m | \u001b[0m-5.188   \u001b[0m | \u001b[0m 0.9378  \u001b[0m | \u001b[0m 0.02684 \u001b[0m | \u001b[0m 3.264   \u001b[0m | \u001b[0m 526.6   \u001b[0m |\n",
            "| \u001b[0m 45      \u001b[0m | \u001b[0m-1.751   \u001b[0m | \u001b[0m 0.6023  \u001b[0m | \u001b[0m 0.8441  \u001b[0m | \u001b[0m 4.97    \u001b[0m | \u001b[0m 237.7   \u001b[0m |\n",
            "| \u001b[0m 46      \u001b[0m | \u001b[0m-2.947   \u001b[0m | \u001b[0m 0.6168  \u001b[0m | \u001b[0m 0.09432 \u001b[0m | \u001b[0m 4.904   \u001b[0m | \u001b[0m 515.4   \u001b[0m |\n",
            "| \u001b[0m 47      \u001b[0m | \u001b[0m-1.713   \u001b[0m | \u001b[0m 0.136   \u001b[0m | \u001b[0m 0.751   \u001b[0m | \u001b[0m 3.144   \u001b[0m | \u001b[0m 509.7   \u001b[0m |\n",
            "| \u001b[0m 48      \u001b[0m | \u001b[0m-1.758   \u001b[0m | \u001b[0m 0.38    \u001b[0m | \u001b[0m 0.9366  \u001b[0m | \u001b[0m 4.957   \u001b[0m | \u001b[0m 146.2   \u001b[0m |\n",
            "| \u001b[0m 49      \u001b[0m | \u001b[0m-1.71    \u001b[0m | \u001b[0m 0.9697  \u001b[0m | \u001b[0m 0.3296  \u001b[0m | \u001b[0m 3.324   \u001b[0m | \u001b[0m 453.0   \u001b[0m |\n",
            "| \u001b[0m 50      \u001b[0m | \u001b[0m-1.711   \u001b[0m | \u001b[0m 0.8723  \u001b[0m | \u001b[0m 0.6373  \u001b[0m | \u001b[0m 3.07    \u001b[0m | \u001b[0m 229.4   \u001b[0m |\n",
            "| \u001b[0m 51      \u001b[0m | \u001b[0m-1.848   \u001b[0m | \u001b[0m 1.0     \u001b[0m | \u001b[0m 1.0     \u001b[0m | \u001b[0m 5.0     \u001b[0m | \u001b[0m 423.8   \u001b[0m |\n",
            "| \u001b[0m 52      \u001b[0m | \u001b[0m-6.132   \u001b[0m | \u001b[0m 0.9559  \u001b[0m | \u001b[0m 0.008611\u001b[0m | \u001b[0m 3.58    \u001b[0m | \u001b[0m 417.1   \u001b[0m |\n",
            "| \u001b[0m 53      \u001b[0m | \u001b[0m-1.848   \u001b[0m | \u001b[0m 1.0     \u001b[0m | \u001b[0m 1.0     \u001b[0m | \u001b[0m 5.0     \u001b[0m | \u001b[0m 428.4   \u001b[0m |\n",
            "| \u001b[0m 54      \u001b[0m | \u001b[0m-1.751   \u001b[0m | \u001b[0m 0.2061  \u001b[0m | \u001b[0m 0.9219  \u001b[0m | \u001b[0m 4.905   \u001b[0m | \u001b[0m 502.5   \u001b[0m |\n",
            "| \u001b[0m 55      \u001b[0m | \u001b[0m-1.745   \u001b[0m | \u001b[0m 1.0     \u001b[0m | \u001b[0m 1.0     \u001b[0m | \u001b[0m 3.0     \u001b[0m | \u001b[0m 131.2   \u001b[0m |\n",
            "| \u001b[0m 56      \u001b[0m | \u001b[0m-6.641   \u001b[0m | \u001b[0m 1.0     \u001b[0m | \u001b[0m 0.0     \u001b[0m | \u001b[0m 3.0     \u001b[0m | \u001b[0m 365.5   \u001b[0m |\n",
            "| \u001b[0m 57      \u001b[0m | \u001b[0m-1.717   \u001b[0m | \u001b[0m 0.2104  \u001b[0m | \u001b[0m 0.27    \u001b[0m | \u001b[0m 4.849   \u001b[0m | \u001b[0m 374.7   \u001b[0m |\n",
            "| \u001b[0m 58      \u001b[0m | \u001b[0m-1.793   \u001b[0m | \u001b[0m 0.8913  \u001b[0m | \u001b[0m 0.2174  \u001b[0m | \u001b[0m 4.836   \u001b[0m | \u001b[0m 256.0   \u001b[0m |\n",
            "=========================================================================\n"
          ]
        }
      ]
    },
    {
      "cell_type": "code",
      "source": [
        "#Extracting the best parameters\n",
        "params = xgb_bo.max['params']\n",
        "print(params)\n",
        "\n",
        "#Converting the max_depth and n_estimator values from float to int\n",
        "params['max_depth']= int(params['max_depth'])\n",
        "params['n_estimators']= int(params['n_estimators'])\n",
        "params['objective'] = 'reg:squarederror'\n",
        "params['early_stopping_rounds']= int(10)\n",
        "params['num_rounds'] = int()\n",
        "params['evals'] = xgb.DMatrix(X_test_fs, label=y_test)\n",
        "#Initialize an XGBClassifier with the tuned parameters and fit the training data\n",
        "\n",
        "from xgboost import XGBRegressor\n",
        "# feature selection\n",
        "X_train_fs, X_test_fs, Test_fs, fs = select_features(X_train, y_train, X_test, test)\n",
        "model_2 = XGBRegressor(**params).fit(X_train_fs, y_train)\n",
        "\n",
        "\n",
        "\n",
        "#predicting for training set\n",
        "train_p2 = model_2.predict(X_train_fs)\n",
        "test_p2  = model_2.predict(X_test_fs)\n",
        "\n",
        "from sklearn.metrics import r2_score\n",
        "#Looking at the classification report\n",
        "print('train r2 score: ', r2_score(y_train, train_p2))\n",
        "print('test r2 score: ', r2_score(y_test, test_p2))"
      ],
      "metadata": {
        "colab": {
          "base_uri": "https://localhost:8080/"
        },
        "id": "hwy_4r-ot5Mt",
        "outputId": "72fdedd1-fd3e-4022-8e60-8e0aa88ed14f"
      },
      "execution_count": null,
      "outputs": [
        {
          "metadata": {
            "tags": null
          },
          "name": "stdout",
          "output_type": "stream",
          "text": [
            "{'gamma': 0.2512675064116262, 'learning_rate': 0.35180464729568084, 'max_depth': 4.99995042459272, 'n_estimators': 233.34983215294622}\n"
          ]
        },
        {
          "metadata": {
            "tags": null
          },
          "name": "stderr",
          "output_type": "stream",
          "text": [
            "/usr/local/lib/python3.7/dist-packages/sklearn/feature_selection/_univariate_selection.py:289: RuntimeWarning: invalid value encountered in true_divide\n",
            "  correlation_coefficient /= X_norms\n"
          ]
        },
        {
          "metadata": {
            "tags": null
          },
          "name": "stdout",
          "output_type": "stream",
          "text": [
            "train r2 score:  0.8021120969150277\n",
            "test r2 score:  0.31341161923740546\n"
          ]
        }
      ]
    },
    {
      "cell_type": "code",
      "source": [
        "y_pred = model_2.predict(Test_fs)\n",
        "y_pred"
      ],
      "metadata": {
        "colab": {
          "base_uri": "https://localhost:8080/"
        },
        "id": "cxXrVKcpIC3c",
        "outputId": "4190b206-233c-4ca6-8022-d2ebc15db099"
      },
      "execution_count": null,
      "outputs": [
        {
          "data": {
            "text/plain": [
              "array([6.234896 , 5.4465737, 7.2114897, ..., 6.023382 , 4.567897 ,\n",
              "       6.324657 ], dtype=float32)"
            ]
          },
          "execution_count": null,
          "metadata": {},
          "output_type": "execute_result"
        }
      ]
    },
    {
      "cell_type": "code",
      "source": [
        "X_train_fs, X_test_fs, Test_fs, fs = select_features(df, label, X_test, test)\n",
        "model_2 = XGBRegressor(**params).fit(X_train_fs,label)\n",
        "\n",
        "y_pred = model_2.predict(Test_fs)\n",
        "y_pred"
      ],
      "metadata": {
        "colab": {
          "base_uri": "https://localhost:8080/"
        },
        "id": "9yN1lXpzP7Sp",
        "outputId": "c60e72cb-6abf-42f4-c7a9-bbb66a7253f3"
      },
      "execution_count": null,
      "outputs": [
        {
          "output_type": "execute_result",
          "data": {
            "text/plain": [
              "array([7.0118513, 5.127671 , 6.7135406, ..., 5.9766283, 5.510972 ,\n",
              "       7.3989882], dtype=float32)"
            ]
          },
          "metadata": {},
          "execution_count": 80
        }
      ]
    },
    {
      "cell_type": "code",
      "source": [
        "#predicting for training set\n",
        "train_p2 = model_2.predict(X_train_fs)\n",
        "score = r2_score(train_p2,label)\n",
        "score"
      ],
      "metadata": {
        "colab": {
          "base_uri": "https://localhost:8080/"
        },
        "id": "i2V4chDPGZHO",
        "outputId": "413cdf8f-ff95-4982-a85a-ec4907b23c15"
      },
      "execution_count": null,
      "outputs": [
        {
          "output_type": "execute_result",
          "data": {
            "text/plain": [
              "0.4935358461550192"
            ]
          },
          "metadata": {},
          "execution_count": 84
        }
      ]
    },
    {
      "cell_type": "code",
      "source": [
        "result = pd.DataFrame(y_pred,columns=['rating_num'], )\n",
        "result['row_id']=test['row_id']\n",
        "result=result[['row_id','rating_num']]\n",
        "result"
      ],
      "metadata": {
        "id": "ffd77HFdGbtW",
        "outputId": "401e9b5a-f150-41e7-92fa-3c03c5de5f81",
        "colab": {
          "base_uri": "https://localhost:8080/",
          "height": 424
        }
      },
      "execution_count": null,
      "outputs": [
        {
          "output_type": "execute_result",
          "data": {
            "text/plain": [
              "      row_id  rating_num\n",
              "0      14785    7.011851\n",
              "1      15125    5.127671\n",
              "2      13095    6.713541\n",
              "3       6079    7.074021\n",
              "4      16584    5.938506\n",
              "...      ...         ...\n",
              "8769   21259    3.721888\n",
              "8770    9371    8.017803\n",
              "8771   23226    5.976628\n",
              "8772   26623    5.510972\n",
              "8773   13814    7.398988\n",
              "\n",
              "[8774 rows x 2 columns]"
            ],
            "text/html": [
              "\n",
              "  <div id=\"df-77d5f18f-6ed7-4c03-9a44-27ae9b0a4a7a\">\n",
              "    <div class=\"colab-df-container\">\n",
              "      <div>\n",
              "<style scoped>\n",
              "    .dataframe tbody tr th:only-of-type {\n",
              "        vertical-align: middle;\n",
              "    }\n",
              "\n",
              "    .dataframe tbody tr th {\n",
              "        vertical-align: top;\n",
              "    }\n",
              "\n",
              "    .dataframe thead th {\n",
              "        text-align: right;\n",
              "    }\n",
              "</style>\n",
              "<table border=\"1\" class=\"dataframe\">\n",
              "  <thead>\n",
              "    <tr style=\"text-align: right;\">\n",
              "      <th></th>\n",
              "      <th>row_id</th>\n",
              "      <th>rating_num</th>\n",
              "    </tr>\n",
              "  </thead>\n",
              "  <tbody>\n",
              "    <tr>\n",
              "      <th>0</th>\n",
              "      <td>14785</td>\n",
              "      <td>7.011851</td>\n",
              "    </tr>\n",
              "    <tr>\n",
              "      <th>1</th>\n",
              "      <td>15125</td>\n",
              "      <td>5.127671</td>\n",
              "    </tr>\n",
              "    <tr>\n",
              "      <th>2</th>\n",
              "      <td>13095</td>\n",
              "      <td>6.713541</td>\n",
              "    </tr>\n",
              "    <tr>\n",
              "      <th>3</th>\n",
              "      <td>6079</td>\n",
              "      <td>7.074021</td>\n",
              "    </tr>\n",
              "    <tr>\n",
              "      <th>4</th>\n",
              "      <td>16584</td>\n",
              "      <td>5.938506</td>\n",
              "    </tr>\n",
              "    <tr>\n",
              "      <th>...</th>\n",
              "      <td>...</td>\n",
              "      <td>...</td>\n",
              "    </tr>\n",
              "    <tr>\n",
              "      <th>8769</th>\n",
              "      <td>21259</td>\n",
              "      <td>3.721888</td>\n",
              "    </tr>\n",
              "    <tr>\n",
              "      <th>8770</th>\n",
              "      <td>9371</td>\n",
              "      <td>8.017803</td>\n",
              "    </tr>\n",
              "    <tr>\n",
              "      <th>8771</th>\n",
              "      <td>23226</td>\n",
              "      <td>5.976628</td>\n",
              "    </tr>\n",
              "    <tr>\n",
              "      <th>8772</th>\n",
              "      <td>26623</td>\n",
              "      <td>5.510972</td>\n",
              "    </tr>\n",
              "    <tr>\n",
              "      <th>8773</th>\n",
              "      <td>13814</td>\n",
              "      <td>7.398988</td>\n",
              "    </tr>\n",
              "  </tbody>\n",
              "</table>\n",
              "<p>8774 rows × 2 columns</p>\n",
              "</div>\n",
              "      <button class=\"colab-df-convert\" onclick=\"convertToInteractive('df-77d5f18f-6ed7-4c03-9a44-27ae9b0a4a7a')\"\n",
              "              title=\"Convert this dataframe to an interactive table.\"\n",
              "              style=\"display:none;\">\n",
              "        \n",
              "  <svg xmlns=\"http://www.w3.org/2000/svg\" height=\"24px\"viewBox=\"0 0 24 24\"\n",
              "       width=\"24px\">\n",
              "    <path d=\"M0 0h24v24H0V0z\" fill=\"none\"/>\n",
              "    <path d=\"M18.56 5.44l.94 2.06.94-2.06 2.06-.94-2.06-.94-.94-2.06-.94 2.06-2.06.94zm-11 1L8.5 8.5l.94-2.06 2.06-.94-2.06-.94L8.5 2.5l-.94 2.06-2.06.94zm10 10l.94 2.06.94-2.06 2.06-.94-2.06-.94-.94-2.06-.94 2.06-2.06.94z\"/><path d=\"M17.41 7.96l-1.37-1.37c-.4-.4-.92-.59-1.43-.59-.52 0-1.04.2-1.43.59L10.3 9.45l-7.72 7.72c-.78.78-.78 2.05 0 2.83L4 21.41c.39.39.9.59 1.41.59.51 0 1.02-.2 1.41-.59l7.78-7.78 2.81-2.81c.8-.78.8-2.07 0-2.86zM5.41 20L4 18.59l7.72-7.72 1.47 1.35L5.41 20z\"/>\n",
              "  </svg>\n",
              "      </button>\n",
              "      \n",
              "  <style>\n",
              "    .colab-df-container {\n",
              "      display:flex;\n",
              "      flex-wrap:wrap;\n",
              "      gap: 12px;\n",
              "    }\n",
              "\n",
              "    .colab-df-convert {\n",
              "      background-color: #E8F0FE;\n",
              "      border: none;\n",
              "      border-radius: 50%;\n",
              "      cursor: pointer;\n",
              "      display: none;\n",
              "      fill: #1967D2;\n",
              "      height: 32px;\n",
              "      padding: 0 0 0 0;\n",
              "      width: 32px;\n",
              "    }\n",
              "\n",
              "    .colab-df-convert:hover {\n",
              "      background-color: #E2EBFA;\n",
              "      box-shadow: 0px 1px 2px rgba(60, 64, 67, 0.3), 0px 1px 3px 1px rgba(60, 64, 67, 0.15);\n",
              "      fill: #174EA6;\n",
              "    }\n",
              "\n",
              "    [theme=dark] .colab-df-convert {\n",
              "      background-color: #3B4455;\n",
              "      fill: #D2E3FC;\n",
              "    }\n",
              "\n",
              "    [theme=dark] .colab-df-convert:hover {\n",
              "      background-color: #434B5C;\n",
              "      box-shadow: 0px 1px 3px 1px rgba(0, 0, 0, 0.15);\n",
              "      filter: drop-shadow(0px 1px 2px rgba(0, 0, 0, 0.3));\n",
              "      fill: #FFFFFF;\n",
              "    }\n",
              "  </style>\n",
              "\n",
              "      <script>\n",
              "        const buttonEl =\n",
              "          document.querySelector('#df-77d5f18f-6ed7-4c03-9a44-27ae9b0a4a7a button.colab-df-convert');\n",
              "        buttonEl.style.display =\n",
              "          google.colab.kernel.accessAllowed ? 'block' : 'none';\n",
              "\n",
              "        async function convertToInteractive(key) {\n",
              "          const element = document.querySelector('#df-77d5f18f-6ed7-4c03-9a44-27ae9b0a4a7a');\n",
              "          const dataTable =\n",
              "            await google.colab.kernel.invokeFunction('convertToInteractive',\n",
              "                                                     [key], {});\n",
              "          if (!dataTable) return;\n",
              "\n",
              "          const docLinkHtml = 'Like what you see? Visit the ' +\n",
              "            '<a target=\"_blank\" href=https://colab.research.google.com/notebooks/data_table.ipynb>data table notebook</a>'\n",
              "            + ' to learn more about interactive tables.';\n",
              "          element.innerHTML = '';\n",
              "          dataTable['output_type'] = 'display_data';\n",
              "          await google.colab.output.renderOutput(dataTable, element);\n",
              "          const docLink = document.createElement('div');\n",
              "          docLink.innerHTML = docLinkHtml;\n",
              "          element.appendChild(docLink);\n",
              "        }\n",
              "      </script>\n",
              "    </div>\n",
              "  </div>\n",
              "  "
            ]
          },
          "metadata": {},
          "execution_count": 85
        }
      ]
    },
    {
      "cell_type": "code",
      "source": [
        "result.to_csv('/content/drive/MyDrive/sevilla hackathon/SJ/solution2.csv',index=False)"
      ],
      "metadata": {
        "id": "5XBUMB3XH8Uk"
      },
      "execution_count": null,
      "outputs": []
    },
    {
      "cell_type": "markdown",
      "source": [
        "MODEL 1\n"
      ],
      "metadata": {
        "id": "MkcJbnPbviww"
      }
    },
    {
      "cell_type": "code",
      "source": [
        "#Model using above selected functions\n",
        "from xgboost import XGBRegressor\n",
        "# feature selection\n",
        "X_train_fs, X_test_fs, Test_fs, fs = select_features(X_train, y_train, X_test,test)\n",
        "# fit the model\n",
        "model_1 = XGBRegressor( n_estimators=800, max_depth=13, objective = 'reg:squarederror')\n",
        "model_1.fit(X_train_fs, y_train)"
      ],
      "metadata": {
        "id": "Pgh_jU_wCS1a",
        "colab": {
          "base_uri": "https://localhost:8080/"
        },
        "outputId": "1d1fcca2-00f4-4058-b6f7-63b0c63e5041"
      },
      "execution_count": null,
      "outputs": [
        {
          "output_type": "execute_result",
          "data": {
            "text/plain": [
              "XGBRegressor(max_depth=13, n_estimators=800, objective='reg:squarederror')"
            ]
          },
          "metadata": {},
          "execution_count": 130
        }
      ]
    },
    {
      "cell_type": "code",
      "source": [
        "'''\n",
        "import pickle\n",
        "model_1.fit(df, label)\n",
        "pickle.dump(model, open(\"model.pickle.dat\", \"wb\"))\n",
        "'''"
      ],
      "metadata": {
        "id": "LyoeH_uRterF",
        "colab": {
          "base_uri": "https://localhost:8080/",
          "height": 35
        },
        "outputId": "424423ad-fc8b-4609-f6d4-db5d6e39c576"
      },
      "execution_count": null,
      "outputs": [
        {
          "output_type": "execute_result",
          "data": {
            "text/plain": [
              "'\\nimport pickle\\nmodel_1.fit(df, label)\\npickle.dump(model, open(\"model.pickle.dat\", \"wb\"))\\n'"
            ],
            "application/vnd.google.colaboratory.intrinsic+json": {
              "type": "string"
            }
          },
          "metadata": {},
          "execution_count": 56
        }
      ]
    },
    {
      "cell_type": "code",
      "source": [
        "yhat = model_1.predict(X_test_fs)\n",
        "yhat"
      ],
      "metadata": {
        "id": "bE-8zIE-_f64",
        "colab": {
          "base_uri": "https://localhost:8080/"
        },
        "outputId": "061c5400-3bb8-4d7e-bf2b-cd6f15127cc0"
      },
      "execution_count": null,
      "outputs": [
        {
          "output_type": "execute_result",
          "data": {
            "text/plain": [
              "array([6.532622, 7.120703, 5.632578, ..., 8.217536, 6.042323, 6.862396],\n",
              "      dtype=float32)"
            ]
          },
          "metadata": {},
          "execution_count": 132
        }
      ]
    },
    {
      "cell_type": "code",
      "source": [
        " from sklearn.metrics import r2_score\n",
        " r2_score(y_test, yhat)"
      ],
      "metadata": {
        "colab": {
          "base_uri": "https://localhost:8080/"
        },
        "id": "IAKP7UbYx2qm",
        "outputId": "e090f54a-326f-4b61-e16d-6721fce10df9"
      },
      "execution_count": null,
      "outputs": [
        {
          "output_type": "execute_result",
          "data": {
            "text/plain": [
              "0.360517517248242"
            ]
          },
          "metadata": {},
          "execution_count": 133
        }
      ]
    },
    {
      "cell_type": "code",
      "source": [
        "y_pred = model_1.predict(Test_fs)\n",
        "y_pred"
      ],
      "metadata": {
        "colab": {
          "base_uri": "https://localhost:8080/"
        },
        "id": "aiW-BvT0gFrN",
        "outputId": "8463a5b6-8e70-4cbe-ef4e-55eae0094376"
      },
      "execution_count": null,
      "outputs": [
        {
          "output_type": "execute_result",
          "data": {
            "text/plain": [
              "array([7.616183 , 3.7988856, 5.053073 , ..., 5.8766875, 7.377419 ,\n",
              "       7.51372  ], dtype=float32)"
            ]
          },
          "metadata": {},
          "execution_count": 108
        }
      ]
    },
    {
      "cell_type": "code",
      "source": [
        "Test_fs.shape"
      ],
      "metadata": {
        "colab": {
          "base_uri": "https://localhost:8080/"
        },
        "id": "82SvPqEpkViw",
        "outputId": "54155196-1b32-4ac1-bea7-c36e8d13268a"
      },
      "execution_count": null,
      "outputs": [
        {
          "output_type": "execute_result",
          "data": {
            "text/plain": [
              "(8774, 664)"
            ]
          },
          "metadata": {},
          "execution_count": 109
        }
      ]
    },
    {
      "cell_type": "code",
      "source": [
        "result = pd.DataFrame(y_pred,columns=['rating_num'], )\n",
        "result['row_id']=test['row_id']\n",
        "result=result[['row_id','rating_num']]\n",
        "result"
      ],
      "metadata": {
        "colab": {
          "base_uri": "https://localhost:8080/",
          "height": 424
        },
        "id": "AyLbd1Cyh713",
        "outputId": "972e147e-fe64-49c7-bbe3-d52a50374ff2"
      },
      "execution_count": null,
      "outputs": [
        {
          "output_type": "execute_result",
          "data": {
            "text/plain": [
              "      row_id  rating_num\n",
              "0      14785    7.616183\n",
              "1      15125    3.798886\n",
              "2      13095    5.053073\n",
              "3       6079    6.088090\n",
              "4      16584    7.012094\n",
              "...      ...         ...\n",
              "8769   21259    4.826948\n",
              "8770    9371    8.109484\n",
              "8771   23226    5.876688\n",
              "8772   26623    7.377419\n",
              "8773   13814    7.513720\n",
              "\n",
              "[8774 rows x 2 columns]"
            ],
            "text/html": [
              "\n",
              "  <div id=\"df-6313de9a-11c1-489a-961b-88188dcbfb2f\">\n",
              "    <div class=\"colab-df-container\">\n",
              "      <div>\n",
              "<style scoped>\n",
              "    .dataframe tbody tr th:only-of-type {\n",
              "        vertical-align: middle;\n",
              "    }\n",
              "\n",
              "    .dataframe tbody tr th {\n",
              "        vertical-align: top;\n",
              "    }\n",
              "\n",
              "    .dataframe thead th {\n",
              "        text-align: right;\n",
              "    }\n",
              "</style>\n",
              "<table border=\"1\" class=\"dataframe\">\n",
              "  <thead>\n",
              "    <tr style=\"text-align: right;\">\n",
              "      <th></th>\n",
              "      <th>row_id</th>\n",
              "      <th>rating_num</th>\n",
              "    </tr>\n",
              "  </thead>\n",
              "  <tbody>\n",
              "    <tr>\n",
              "      <th>0</th>\n",
              "      <td>14785</td>\n",
              "      <td>7.616183</td>\n",
              "    </tr>\n",
              "    <tr>\n",
              "      <th>1</th>\n",
              "      <td>15125</td>\n",
              "      <td>3.798886</td>\n",
              "    </tr>\n",
              "    <tr>\n",
              "      <th>2</th>\n",
              "      <td>13095</td>\n",
              "      <td>5.053073</td>\n",
              "    </tr>\n",
              "    <tr>\n",
              "      <th>3</th>\n",
              "      <td>6079</td>\n",
              "      <td>6.088090</td>\n",
              "    </tr>\n",
              "    <tr>\n",
              "      <th>4</th>\n",
              "      <td>16584</td>\n",
              "      <td>7.012094</td>\n",
              "    </tr>\n",
              "    <tr>\n",
              "      <th>...</th>\n",
              "      <td>...</td>\n",
              "      <td>...</td>\n",
              "    </tr>\n",
              "    <tr>\n",
              "      <th>8769</th>\n",
              "      <td>21259</td>\n",
              "      <td>4.826948</td>\n",
              "    </tr>\n",
              "    <tr>\n",
              "      <th>8770</th>\n",
              "      <td>9371</td>\n",
              "      <td>8.109484</td>\n",
              "    </tr>\n",
              "    <tr>\n",
              "      <th>8771</th>\n",
              "      <td>23226</td>\n",
              "      <td>5.876688</td>\n",
              "    </tr>\n",
              "    <tr>\n",
              "      <th>8772</th>\n",
              "      <td>26623</td>\n",
              "      <td>7.377419</td>\n",
              "    </tr>\n",
              "    <tr>\n",
              "      <th>8773</th>\n",
              "      <td>13814</td>\n",
              "      <td>7.513720</td>\n",
              "    </tr>\n",
              "  </tbody>\n",
              "</table>\n",
              "<p>8774 rows × 2 columns</p>\n",
              "</div>\n",
              "      <button class=\"colab-df-convert\" onclick=\"convertToInteractive('df-6313de9a-11c1-489a-961b-88188dcbfb2f')\"\n",
              "              title=\"Convert this dataframe to an interactive table.\"\n",
              "              style=\"display:none;\">\n",
              "        \n",
              "  <svg xmlns=\"http://www.w3.org/2000/svg\" height=\"24px\"viewBox=\"0 0 24 24\"\n",
              "       width=\"24px\">\n",
              "    <path d=\"M0 0h24v24H0V0z\" fill=\"none\"/>\n",
              "    <path d=\"M18.56 5.44l.94 2.06.94-2.06 2.06-.94-2.06-.94-.94-2.06-.94 2.06-2.06.94zm-11 1L8.5 8.5l.94-2.06 2.06-.94-2.06-.94L8.5 2.5l-.94 2.06-2.06.94zm10 10l.94 2.06.94-2.06 2.06-.94-2.06-.94-.94-2.06-.94 2.06-2.06.94z\"/><path d=\"M17.41 7.96l-1.37-1.37c-.4-.4-.92-.59-1.43-.59-.52 0-1.04.2-1.43.59L10.3 9.45l-7.72 7.72c-.78.78-.78 2.05 0 2.83L4 21.41c.39.39.9.59 1.41.59.51 0 1.02-.2 1.41-.59l7.78-7.78 2.81-2.81c.8-.78.8-2.07 0-2.86zM5.41 20L4 18.59l7.72-7.72 1.47 1.35L5.41 20z\"/>\n",
              "  </svg>\n",
              "      </button>\n",
              "      \n",
              "  <style>\n",
              "    .colab-df-container {\n",
              "      display:flex;\n",
              "      flex-wrap:wrap;\n",
              "      gap: 12px;\n",
              "    }\n",
              "\n",
              "    .colab-df-convert {\n",
              "      background-color: #E8F0FE;\n",
              "      border: none;\n",
              "      border-radius: 50%;\n",
              "      cursor: pointer;\n",
              "      display: none;\n",
              "      fill: #1967D2;\n",
              "      height: 32px;\n",
              "      padding: 0 0 0 0;\n",
              "      width: 32px;\n",
              "    }\n",
              "\n",
              "    .colab-df-convert:hover {\n",
              "      background-color: #E2EBFA;\n",
              "      box-shadow: 0px 1px 2px rgba(60, 64, 67, 0.3), 0px 1px 3px 1px rgba(60, 64, 67, 0.15);\n",
              "      fill: #174EA6;\n",
              "    }\n",
              "\n",
              "    [theme=dark] .colab-df-convert {\n",
              "      background-color: #3B4455;\n",
              "      fill: #D2E3FC;\n",
              "    }\n",
              "\n",
              "    [theme=dark] .colab-df-convert:hover {\n",
              "      background-color: #434B5C;\n",
              "      box-shadow: 0px 1px 3px 1px rgba(0, 0, 0, 0.15);\n",
              "      filter: drop-shadow(0px 1px 2px rgba(0, 0, 0, 0.3));\n",
              "      fill: #FFFFFF;\n",
              "    }\n",
              "  </style>\n",
              "\n",
              "      <script>\n",
              "        const buttonEl =\n",
              "          document.querySelector('#df-6313de9a-11c1-489a-961b-88188dcbfb2f button.colab-df-convert');\n",
              "        buttonEl.style.display =\n",
              "          google.colab.kernel.accessAllowed ? 'block' : 'none';\n",
              "\n",
              "        async function convertToInteractive(key) {\n",
              "          const element = document.querySelector('#df-6313de9a-11c1-489a-961b-88188dcbfb2f');\n",
              "          const dataTable =\n",
              "            await google.colab.kernel.invokeFunction('convertToInteractive',\n",
              "                                                     [key], {});\n",
              "          if (!dataTable) return;\n",
              "\n",
              "          const docLinkHtml = 'Like what you see? Visit the ' +\n",
              "            '<a target=\"_blank\" href=https://colab.research.google.com/notebooks/data_table.ipynb>data table notebook</a>'\n",
              "            + ' to learn more about interactive tables.';\n",
              "          element.innerHTML = '';\n",
              "          dataTable['output_type'] = 'display_data';\n",
              "          await google.colab.output.renderOutput(dataTable, element);\n",
              "          const docLink = document.createElement('div');\n",
              "          docLink.innerHTML = docLinkHtml;\n",
              "          element.appendChild(docLink);\n",
              "        }\n",
              "      </script>\n",
              "    </div>\n",
              "  </div>\n",
              "  "
            ]
          },
          "metadata": {},
          "execution_count": 121
        }
      ]
    },
    {
      "cell_type": "code",
      "source": [
        "fs"
      ],
      "metadata": {
        "colab": {
          "base_uri": "https://localhost:8080/"
        },
        "id": "_QT-HtnhcgRu",
        "outputId": "c61f8358-e78f-44ff-aa14-6fae246c6eda"
      },
      "execution_count": null,
      "outputs": [
        {
          "output_type": "execute_result",
          "data": {
            "text/plain": [
              "SelectKBest(k='all', score_func=<function f_regression at 0x7ff8716c8320>)"
            ]
          },
          "metadata": {},
          "execution_count": 111
        }
      ]
    },
    {
      "cell_type": "code",
      "source": [
        "def round_nearest(x, a):\n",
        "    return round(x / a) * a"
      ],
      "metadata": {
        "id": "0HCbHXPgHxtA"
      },
      "execution_count": null,
      "outputs": []
    },
    {
      "cell_type": "code",
      "source": [
        "result['rating_num']=round_nearest(result['rating_num'],0.5)"
      ],
      "metadata": {
        "id": "uKM0UHyBudTT"
      },
      "execution_count": null,
      "outputs": []
    },
    {
      "cell_type": "code",
      "source": [
        "result"
      ],
      "metadata": {
        "colab": {
          "base_uri": "https://localhost:8080/",
          "height": 424
        },
        "id": "QG3hlTFw2uKW",
        "outputId": "8ac08586-4179-4854-e378-29958872ee71"
      },
      "execution_count": null,
      "outputs": [
        {
          "output_type": "execute_result",
          "data": {
            "text/plain": [
              "      row_id  rating_num\n",
              "0      14785    7.616183\n",
              "1      15125    3.798886\n",
              "2      13095    5.053073\n",
              "3       6079    6.088090\n",
              "4      16584    7.012094\n",
              "...      ...         ...\n",
              "8769   21259    4.826948\n",
              "8770    9371    8.109484\n",
              "8771   23226    5.876688\n",
              "8772   26623    7.377419\n",
              "8773   13814    7.513720\n",
              "\n",
              "[8774 rows x 2 columns]"
            ],
            "text/html": [
              "\n",
              "  <div id=\"df-43ba9e0e-9b03-4fa9-8379-5f32f90028c9\">\n",
              "    <div class=\"colab-df-container\">\n",
              "      <div>\n",
              "<style scoped>\n",
              "    .dataframe tbody tr th:only-of-type {\n",
              "        vertical-align: middle;\n",
              "    }\n",
              "\n",
              "    .dataframe tbody tr th {\n",
              "        vertical-align: top;\n",
              "    }\n",
              "\n",
              "    .dataframe thead th {\n",
              "        text-align: right;\n",
              "    }\n",
              "</style>\n",
              "<table border=\"1\" class=\"dataframe\">\n",
              "  <thead>\n",
              "    <tr style=\"text-align: right;\">\n",
              "      <th></th>\n",
              "      <th>row_id</th>\n",
              "      <th>rating_num</th>\n",
              "    </tr>\n",
              "  </thead>\n",
              "  <tbody>\n",
              "    <tr>\n",
              "      <th>0</th>\n",
              "      <td>14785</td>\n",
              "      <td>7.616183</td>\n",
              "    </tr>\n",
              "    <tr>\n",
              "      <th>1</th>\n",
              "      <td>15125</td>\n",
              "      <td>3.798886</td>\n",
              "    </tr>\n",
              "    <tr>\n",
              "      <th>2</th>\n",
              "      <td>13095</td>\n",
              "      <td>5.053073</td>\n",
              "    </tr>\n",
              "    <tr>\n",
              "      <th>3</th>\n",
              "      <td>6079</td>\n",
              "      <td>6.088090</td>\n",
              "    </tr>\n",
              "    <tr>\n",
              "      <th>4</th>\n",
              "      <td>16584</td>\n",
              "      <td>7.012094</td>\n",
              "    </tr>\n",
              "    <tr>\n",
              "      <th>...</th>\n",
              "      <td>...</td>\n",
              "      <td>...</td>\n",
              "    </tr>\n",
              "    <tr>\n",
              "      <th>8769</th>\n",
              "      <td>21259</td>\n",
              "      <td>4.826948</td>\n",
              "    </tr>\n",
              "    <tr>\n",
              "      <th>8770</th>\n",
              "      <td>9371</td>\n",
              "      <td>8.109484</td>\n",
              "    </tr>\n",
              "    <tr>\n",
              "      <th>8771</th>\n",
              "      <td>23226</td>\n",
              "      <td>5.876688</td>\n",
              "    </tr>\n",
              "    <tr>\n",
              "      <th>8772</th>\n",
              "      <td>26623</td>\n",
              "      <td>7.377419</td>\n",
              "    </tr>\n",
              "    <tr>\n",
              "      <th>8773</th>\n",
              "      <td>13814</td>\n",
              "      <td>7.513720</td>\n",
              "    </tr>\n",
              "  </tbody>\n",
              "</table>\n",
              "<p>8774 rows × 2 columns</p>\n",
              "</div>\n",
              "      <button class=\"colab-df-convert\" onclick=\"convertToInteractive('df-43ba9e0e-9b03-4fa9-8379-5f32f90028c9')\"\n",
              "              title=\"Convert this dataframe to an interactive table.\"\n",
              "              style=\"display:none;\">\n",
              "        \n",
              "  <svg xmlns=\"http://www.w3.org/2000/svg\" height=\"24px\"viewBox=\"0 0 24 24\"\n",
              "       width=\"24px\">\n",
              "    <path d=\"M0 0h24v24H0V0z\" fill=\"none\"/>\n",
              "    <path d=\"M18.56 5.44l.94 2.06.94-2.06 2.06-.94-2.06-.94-.94-2.06-.94 2.06-2.06.94zm-11 1L8.5 8.5l.94-2.06 2.06-.94-2.06-.94L8.5 2.5l-.94 2.06-2.06.94zm10 10l.94 2.06.94-2.06 2.06-.94-2.06-.94-.94-2.06-.94 2.06-2.06.94z\"/><path d=\"M17.41 7.96l-1.37-1.37c-.4-.4-.92-.59-1.43-.59-.52 0-1.04.2-1.43.59L10.3 9.45l-7.72 7.72c-.78.78-.78 2.05 0 2.83L4 21.41c.39.39.9.59 1.41.59.51 0 1.02-.2 1.41-.59l7.78-7.78 2.81-2.81c.8-.78.8-2.07 0-2.86zM5.41 20L4 18.59l7.72-7.72 1.47 1.35L5.41 20z\"/>\n",
              "  </svg>\n",
              "      </button>\n",
              "      \n",
              "  <style>\n",
              "    .colab-df-container {\n",
              "      display:flex;\n",
              "      flex-wrap:wrap;\n",
              "      gap: 12px;\n",
              "    }\n",
              "\n",
              "    .colab-df-convert {\n",
              "      background-color: #E8F0FE;\n",
              "      border: none;\n",
              "      border-radius: 50%;\n",
              "      cursor: pointer;\n",
              "      display: none;\n",
              "      fill: #1967D2;\n",
              "      height: 32px;\n",
              "      padding: 0 0 0 0;\n",
              "      width: 32px;\n",
              "    }\n",
              "\n",
              "    .colab-df-convert:hover {\n",
              "      background-color: #E2EBFA;\n",
              "      box-shadow: 0px 1px 2px rgba(60, 64, 67, 0.3), 0px 1px 3px 1px rgba(60, 64, 67, 0.15);\n",
              "      fill: #174EA6;\n",
              "    }\n",
              "\n",
              "    [theme=dark] .colab-df-convert {\n",
              "      background-color: #3B4455;\n",
              "      fill: #D2E3FC;\n",
              "    }\n",
              "\n",
              "    [theme=dark] .colab-df-convert:hover {\n",
              "      background-color: #434B5C;\n",
              "      box-shadow: 0px 1px 3px 1px rgba(0, 0, 0, 0.15);\n",
              "      filter: drop-shadow(0px 1px 2px rgba(0, 0, 0, 0.3));\n",
              "      fill: #FFFFFF;\n",
              "    }\n",
              "  </style>\n",
              "\n",
              "      <script>\n",
              "        const buttonEl =\n",
              "          document.querySelector('#df-43ba9e0e-9b03-4fa9-8379-5f32f90028c9 button.colab-df-convert');\n",
              "        buttonEl.style.display =\n",
              "          google.colab.kernel.accessAllowed ? 'block' : 'none';\n",
              "\n",
              "        async function convertToInteractive(key) {\n",
              "          const element = document.querySelector('#df-43ba9e0e-9b03-4fa9-8379-5f32f90028c9');\n",
              "          const dataTable =\n",
              "            await google.colab.kernel.invokeFunction('convertToInteractive',\n",
              "                                                     [key], {});\n",
              "          if (!dataTable) return;\n",
              "\n",
              "          const docLinkHtml = 'Like what you see? Visit the ' +\n",
              "            '<a target=\"_blank\" href=https://colab.research.google.com/notebooks/data_table.ipynb>data table notebook</a>'\n",
              "            + ' to learn more about interactive tables.';\n",
              "          element.innerHTML = '';\n",
              "          dataTable['output_type'] = 'display_data';\n",
              "          await google.colab.output.renderOutput(dataTable, element);\n",
              "          const docLink = document.createElement('div');\n",
              "          docLink.innerHTML = docLinkHtml;\n",
              "          element.appendChild(docLink);\n",
              "        }\n",
              "      </script>\n",
              "    </div>\n",
              "  </div>\n",
              "  "
            ]
          },
          "metadata": {},
          "execution_count": 122
        }
      ]
    },
    {
      "cell_type": "code",
      "source": [
        "result.to_csv('/content/drive/MyDrive/sevilla hackathon/SJ/solution2.csv',index=False)"
      ],
      "metadata": {
        "id": "xtLJEsAjJJvo"
      },
      "execution_count": null,
      "outputs": []
    }
  ]
}